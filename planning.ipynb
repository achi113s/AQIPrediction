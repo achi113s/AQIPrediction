{
 "cells": [
  {
   "cell_type": "markdown",
   "id": "4812b73d",
   "metadata": {},
   "source": [
    "# Introduction\n",
    "\n",
    "This is where my plans for the air quality index (AQI) prediction service are. With any coding project larger than a simple script, things can quickly get out of hand if careful planning isn't carried out before starting to code.\n",
    "\n",
    "This project was born from an idea I found on [Twitter](https://datamachines.xyz/2022/11/22/build-a-prediction-service-with-machine-learning-step-by-step/) by Pau Labarta Bajo. At the link, he gives a short outline of the steps needed to complete the project. The steps are vague enough to warrant some serious learning by those who are not familiar with deploying machine learning models (me), but just detailed enough to know the rough path to take. This is a great departure from tutorials where you mindlessly watch someone code X project and then claim you've learned how to do X.\n",
    "\n",
    "First, a quick outline of the project. The air quality index is a measure of the levels of specific pollutants in the air. Below is a table I copied from the Wikipedia page for [AQI](https://en.wikipedia.org/wiki/Air_quality_index#CAQI)."
   ]
  },
  {
   "cell_type": "markdown",
   "id": "4fdbd66f",
   "metadata": {},
   "source": [
    "<tbody><tr>\n",
    "<th>Qualitative name</th>\n",
    "<th>Index or sub-index</th>\n",
    "<th colspan=\"4\">Pollutant (hourly) concentration\n",
    "</th></tr>\n",
    "<tr>\n",
    "<th colspan=\"2\"></th>\n",
    "<th>NO<sub>2</sub> μg/m<sup>3</sup></th>\n",
    "<th>PM<sub>10</sub> μg/m<sup>3</sup></th>\n",
    "<th>O<sub>3</sub> μg/m<sup>3</sup></th>\n",
    "<th>PM<sub>2.5</sub> (optional) μg/m<sup>3</sup>\n",
    "</th></tr>\n",
    "<tr>\n",
    "<td>Very low</td>\n",
    "<td style=\"background:#79bc6a;\">0–25</td>\n",
    "<td>0–50</td>\n",
    "<td>0–25</td>\n",
    "<td>0–60</td>\n",
    "<td>0–15\n",
    "</td></tr>\n",
    "<tr>\n",
    "<td>Low</td>\n",
    "<td style=\"background:#bbcf4c;\">25–50</td>\n",
    "<td>50–100</td>\n",
    "<td>25–50</td>\n",
    "<td>60–120</td>\n",
    "<td>15–30\n",
    "</td></tr>\n",
    "<tr>\n",
    "<td>Medium</td>\n",
    "<td style=\"background:#eec20b;\">50–75</td>\n",
    "<td>100–200</td>\n",
    "<td>50–90</td>\n",
    "<td>120–180</td>\n",
    "<td>30–55\n",
    "</td></tr>\n",
    "<tr>\n",
    "<td>High</td>\n",
    "<td style=\"background:#f29305;\">75–100</td>\n",
    "<td>200–400</td>\n",
    "<td>90–180</td>\n",
    "<td>180–240</td>\n",
    "<td>55–110\n",
    "</td></tr>\n",
    "<tr>\n",
    "<td>Very high</td>\n",
    "<td style=\"background:#e8416f;\">&gt;100</td>\n",
    "<td>&gt;400</td>\n",
    "<td>&gt;180</td>\n",
    "<td>&gt;240</td>\n",
    "<td>&gt;110\n",
    "</td></tr>\n",
    "</tbody>"
   ]
  },
  {
   "cell_type": "markdown",
   "id": "a284fcc5",
   "metadata": {},
   "source": [
    "The objective is to train a machine learning model on historical AQI data for a given city and then produce a 3-day hourly forecast of the AQI for the city. New data will be downloaded frequently and this data, along with the historical data and the forecast, will be presented in a plot in the online app. The model will be retrained once a week. \n",
    "\n",
    "## Technologies Used\n",
    "---\n",
    "1. Python\n",
    "2. OpenWeatherAPI for air quality index data\n",
    "3. Hopsworks as a feature storing service\n",
    "4. Streamlit to build a simple data web app that shows the historical data and forecasted AQI"
   ]
  },
  {
   "cell_type": "markdown",
   "id": "36090277",
   "metadata": {},
   "source": [
    "## Step 1: Feature Generation\n",
    "\n",
    "The OpenWeatherAPI has a backlog of AQI data from 2020 November 27. This data will be downloaded via GET request and processed by a Python script.\n",
    "\n",
    "The script needs automatically decide whether to download all of the historical data for a given city or to only download new data.\n",
    "\n",
    "The script needs to verify data integrity, process the downloaded data and then upload the model inputs and outputs to Hopsworks.\n",
    "\n",
    "This will all be accomplished by doing the following:\n",
    "1. Have a function which determines the date range for which to download data\n",
    "    * This will require checking a data file to see 1, if data for that city has been downloaded before, and 2, the end date for the previously downloaded data\n",
    "        * It may be possible to query Hopsworks to instead see if data for the city exists and what the most current data point is\n",
    "    * Input Parameters: city\n",
    "    * Output Parameters: date which represents the start date for a GET request\n",
    "2. Have a function which only accomplishes the task of submitting a GET request for AQI data within a given time period\n",
    "   * Input Parameters: start_date, end_date, API_key, latitude, longitude\n",
    "   * Output: Pandas Dataframe of the data\n",
    "3. Have a function which takes in the raw data and generates features (lag, dayofweek, month, etc.). there will be a separate Jupyter notebook that shows the thought process for feature generation.\n",
    "\n",
    "4. Store the features in Hopsworks.\n",
    "\n",
    "I'm working with time-series data here which is much different than simple tabular data about customers or flattened images. There are things such as seasonality that can be used to do feature engineering. For the sake of the project I'm not going to get too detailed on this part. I'm mostly going to focus on getting everything working. Perhaps in a later version I'll analyze the data better."
   ]
  },
  {
   "cell_type": "code",
   "execution_count": null,
   "id": "053f8f83",
   "metadata": {},
   "outputs": [],
   "source": []
  }
 ],
 "metadata": {
  "kernelspec": {
   "display_name": "Python 3 (ipykernel)",
   "language": "python",
   "name": "python3"
  },
  "language_info": {
   "codemirror_mode": {
    "name": "ipython",
    "version": 3
   },
   "file_extension": ".py",
   "mimetype": "text/x-python",
   "name": "python",
   "nbconvert_exporter": "python",
   "pygments_lexer": "ipython3",
   "version": "3.9.10"
  }
 },
 "nbformat": 4,
 "nbformat_minor": 5
}

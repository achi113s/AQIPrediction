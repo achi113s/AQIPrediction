{
 "cells": [
  {
   "cell_type": "markdown",
   "id": "ea668df1",
   "metadata": {},
   "source": [
    "# Training a Model\n",
    "\n",
    "Now that we've got data in Hopsworks and the architecture for updating it, we can go ahead and start writing our model training data. Since we're working with time series data that has strong seasonality, I'm going to use Meta's Prophet algorithm.\n",
    "\n",
    "Since our data is hosted on Hopsworks, we need to get it:"
   ]
  },
  {
   "cell_type": "code",
   "execution_count": 1,
   "id": "7a36d146",
   "metadata": {},
   "outputs": [
    {
     "name": "stdout",
     "output_type": "stream",
     "text": [
      "Connected. Call `.close()` to terminate connection gracefully.\n",
      "\n",
      "Logged in to project, explore it here https://c.app.hopsworks.ai:443/p/14486\n",
      "Connected. Call `.close()` to terminate connection gracefully.\n"
     ]
    },
    {
     "name": "stderr",
     "output_type": "stream",
     "text": [
      "DeprecationWarning: the imp module is deprecated in favour of importlib; see the module's documentation for alternative uses\n"
     ]
    }
   ],
   "source": [
    "import hopsworks\n",
    "\n",
    "project = hopsworks.login()\n",
    "\n",
    "fs = project.get_feature_store()"
   ]
  },
  {
   "cell_type": "code",
   "execution_count": 2,
   "id": "81e49a50",
   "metadata": {},
   "outputs": [],
   "source": [
    "# Load feature groups.\n",
    "zip_code = '60603'  # Chicago\n",
    "country_code = 'US'\n",
    "city = 'Chicago'\n",
    "\n",
    "fg_name = f'aqi_{city}_{zip_code}'.lower()\n",
    "\n",
    "aqi_online_fg = fs.get_feature_group(fg_name, version=1)\n",
    "\n",
    "not_features = ['date', 'lat', 'lon']\n",
    "\n",
    "ds_query = aqi_online_fg.select_except(not_features)"
   ]
  },
  {
   "cell_type": "code",
   "execution_count": 3,
   "id": "486e38c7",
   "metadata": {
    "scrolled": true
   },
   "outputs": [
    {
     "data": {
      "text/html": [
       "<div>\n",
       "<style scoped>\n",
       "    .dataframe tbody tr th:only-of-type {\n",
       "        vertical-align: middle;\n",
       "    }\n",
       "\n",
       "    .dataframe tbody tr th {\n",
       "        vertical-align: top;\n",
       "    }\n",
       "\n",
       "    .dataframe thead th {\n",
       "        text-align: right;\n",
       "    }\n",
       "</style>\n",
       "<table border=\"1\" class=\"dataframe\">\n",
       "  <thead>\n",
       "    <tr style=\"text-align: right;\">\n",
       "      <th></th>\n",
       "      <th>co</th>\n",
       "      <th>no</th>\n",
       "      <th>no2</th>\n",
       "      <th>o3</th>\n",
       "      <th>so2</th>\n",
       "      <th>pm2_5</th>\n",
       "      <th>pm10</th>\n",
       "      <th>nh3</th>\n",
       "      <th>datetime</th>\n",
       "      <th>aqi</th>\n",
       "      <th>id</th>\n",
       "    </tr>\n",
       "  </thead>\n",
       "  <tbody>\n",
       "    <tr>\n",
       "      <th>0</th>\n",
       "      <td>230.31</td>\n",
       "      <td>0.00</td>\n",
       "      <td>8.23</td>\n",
       "      <td>70.81</td>\n",
       "      <td>3.37</td>\n",
       "      <td>0.78</td>\n",
       "      <td>1.96</td>\n",
       "      <td>0.47</td>\n",
       "      <td>2020-11-30 08:00:00</td>\n",
       "      <td>1</td>\n",
       "      <td>80</td>\n",
       "    </tr>\n",
       "    <tr>\n",
       "      <th>1</th>\n",
       "      <td>1041.41</td>\n",
       "      <td>85.83</td>\n",
       "      <td>71.29</td>\n",
       "      <td>0.00</td>\n",
       "      <td>10.01</td>\n",
       "      <td>47.22</td>\n",
       "      <td>71.06</td>\n",
       "      <td>2.72</td>\n",
       "      <td>2020-12-08 02:00:00</td>\n",
       "      <td>4</td>\n",
       "      <td>266</td>\n",
       "    </tr>\n",
       "    <tr>\n",
       "      <th>2</th>\n",
       "      <td>297.07</td>\n",
       "      <td>0.05</td>\n",
       "      <td>22.96</td>\n",
       "      <td>41.84</td>\n",
       "      <td>4.17</td>\n",
       "      <td>5.59</td>\n",
       "      <td>7.95</td>\n",
       "      <td>2.38</td>\n",
       "      <td>2020-12-13 23:00:00</td>\n",
       "      <td>1</td>\n",
       "      <td>407</td>\n",
       "    </tr>\n",
       "    <tr>\n",
       "      <th>3</th>\n",
       "      <td>333.79</td>\n",
       "      <td>7.15</td>\n",
       "      <td>20.22</td>\n",
       "      <td>26.11</td>\n",
       "      <td>8.46</td>\n",
       "      <td>8.83</td>\n",
       "      <td>11.68</td>\n",
       "      <td>1.33</td>\n",
       "      <td>2020-12-21 12:00:00</td>\n",
       "      <td>1</td>\n",
       "      <td>588</td>\n",
       "    </tr>\n",
       "    <tr>\n",
       "      <th>4</th>\n",
       "      <td>330.45</td>\n",
       "      <td>0.06</td>\n",
       "      <td>30.16</td>\n",
       "      <td>38.62</td>\n",
       "      <td>5.66</td>\n",
       "      <td>14.31</td>\n",
       "      <td>17.61</td>\n",
       "      <td>1.36</td>\n",
       "      <td>2020-12-27 20:00:00</td>\n",
       "      <td>2</td>\n",
       "      <td>740</td>\n",
       "    </tr>\n",
       "  </tbody>\n",
       "</table>\n",
       "</div>"
      ],
      "text/plain": [
       "        co     no    no2     o3    so2  pm2_5   pm10   nh3  \\\n",
       "0   230.31   0.00   8.23  70.81   3.37   0.78   1.96  0.47   \n",
       "1  1041.41  85.83  71.29   0.00  10.01  47.22  71.06  2.72   \n",
       "2   297.07   0.05  22.96  41.84   4.17   5.59   7.95  2.38   \n",
       "3   333.79   7.15  20.22  26.11   8.46   8.83  11.68  1.33   \n",
       "4   330.45   0.06  30.16  38.62   5.66  14.31  17.61  1.36   \n",
       "\n",
       "             datetime  aqi   id  \n",
       "0 2020-11-30 08:00:00    1   80  \n",
       "1 2020-12-08 02:00:00    4  266  \n",
       "2 2020-12-13 23:00:00    1  407  \n",
       "3 2020-12-21 12:00:00    1  588  \n",
       "4 2020-12-27 20:00:00    2  740  "
      ]
     },
     "execution_count": 3,
     "metadata": {},
     "output_type": "execute_result"
    }
   ],
   "source": [
    "ds_query.show(5, online=True)"
   ]
  },
  {
   "cell_type": "markdown",
   "id": "979bab66",
   "metadata": {},
   "source": [
    "Notice that the data appears to be out of order. This is ok."
   ]
  },
  {
   "cell_type": "markdown",
   "id": "9f091150",
   "metadata": {},
   "source": [
    "We will now define some transformation functions to normalize all of our features. These transformations will be applied to the data when we create a feature view."
   ]
  },
  {
   "cell_type": "code",
   "execution_count": 4,
   "id": "3557f7cd",
   "metadata": {},
   "outputs": [],
   "source": [
    "# Load the transformation function we want.\n",
    "standard_scaler = fs.get_transformation_function(name=\"standard_scaler\")\n",
    "\n",
    "# Map features to transformation function\n",
    "transformation_functions = {\n",
    "    'co': standard_scaler, \n",
    "    'no': standard_scaler, \n",
    "    'no2': standard_scaler, \n",
    "    'o3': standard_scaler,\n",
    "    'so2': standard_scaler, \n",
    "    'pm2_5': standard_scaler, \n",
    "    'pm10': standard_scaler, \n",
    "    'nh3': standard_scaler\n",
    "}"
   ]
  },
  {
   "cell_type": "markdown",
   "id": "c3df6e98",
   "metadata": {},
   "source": [
    "Training data is created from feature views in Hopsworks. Feature views are logical views over sets of features. Normally they are created by joining together different feature groups. Since we only have one here though it's a little different."
   ]
  },
  {
   "cell_type": "code",
   "execution_count": 5,
   "id": "948ad530",
   "metadata": {},
   "outputs": [],
   "source": [
    "fv_name = f'{fg_name}_fv'\n",
    "\n",
    "try:\n",
    "    feature_view = fs.get_feature_view(name=fv_name, version=1)\n",
    "except: \n",
    "    feature_view = fs.create_feature_view(\n",
    "    name=fv_name,\n",
    "    version=1,\n",
    "    description='feature view for creating training data',\n",
    "    query=ds_query,\n",
    "    labels=['aqi', 'id'],  # not using ID as a label, just for keeping track of data order\n",
    "    transformation_functions=transformation_functions\n",
    ")"
   ]
  },
  {
   "cell_type": "markdown",
   "id": "4b51963d",
   "metadata": {},
   "source": [
    "Now let's get the earliest and latest dates in the dataset to split our data into a training and testing set:"
   ]
  },
  {
   "cell_type": "code",
   "execution_count": 6,
   "id": "a88e84a3",
   "metadata": {},
   "outputs": [
    {
     "name": "stdout",
     "output_type": "stream",
     "text": [
      "2020-11-27 00:00:00 2023-01-19 14:00:00\n"
     ]
    }
   ],
   "source": [
    "import datetime\n",
    "import pandas as pd\n",
    "\n",
    "end_date = pd.to_datetime(fs.sql(f\"SELECT MAX(`datetime`) FROM `{fg_name}_1`\", online=True).values[0][0])\n",
    "start_date = pd.to_datetime(fs.sql(f\"SELECT MIN(`datetime`) FROM `{fg_name}_1`\", online=True).values[0][0])\n",
    "\n",
    "print(start_date, end_date)"
   ]
  },
  {
   "cell_type": "code",
   "execution_count": 7,
   "id": "3a1325da",
   "metadata": {},
   "outputs": [
    {
     "name": "stdout",
     "output_type": "stream",
     "text": [
      "2020-11-27 00:00:00 2023-01-19 14:00:00\n"
     ]
    }
   ],
   "source": [
    "start_date_str = start_date.strftime('%Y-%m-%d %H:%M:%S')\n",
    "end_date_str = end_date.strftime('%Y-%m-%d %H:%M:%S')\n",
    "\n",
    "print(start_date_str, end_date_str)"
   ]
  },
  {
   "cell_type": "code",
   "execution_count": 8,
   "id": "202179f3",
   "metadata": {},
   "outputs": [],
   "source": [
    "# # Create training datasets based event time filter\n",
    "# train_d, train_d_job = feature_view.create_training_data(\n",
    "#         start_time = start_date_str,\n",
    "#         end_time = end_date_str,    \n",
    "#         description = f'aqi data for training {start_date_str} to {end_date_str}',\n",
    "#         data_format = \"csv\",\n",
    "#         coalesce = True,\n",
    "#         write_options = {'wait_for_job': False},\n",
    "#     )"
   ]
  },
  {
   "cell_type": "markdown",
   "id": "d016b2fe",
   "metadata": {},
   "source": [
    "We're going to use the training data for validation as well. Scikit-Learn has convenient functions for splitting time series data into validation sets, so that is why I'm not doing it via Hopsworks. Now that the train and test data set views have been created, we can access them like so:"
   ]
  },
  {
   "cell_type": "code",
   "execution_count": 9,
   "id": "2e14fe6f",
   "metadata": {},
   "outputs": [],
   "source": [
    "train_x, train_y = feature_view.get_training_data(1)"
   ]
  },
  {
   "cell_type": "code",
   "execution_count": 10,
   "id": "161055af",
   "metadata": {},
   "outputs": [
    {
     "data": {
      "text/html": [
       "<div>\n",
       "<style scoped>\n",
       "    .dataframe tbody tr th:only-of-type {\n",
       "        vertical-align: middle;\n",
       "    }\n",
       "\n",
       "    .dataframe tbody tr th {\n",
       "        vertical-align: top;\n",
       "    }\n",
       "\n",
       "    .dataframe thead th {\n",
       "        text-align: right;\n",
       "    }\n",
       "</style>\n",
       "<table border=\"1\" class=\"dataframe\">\n",
       "  <thead>\n",
       "    <tr style=\"text-align: right;\">\n",
       "      <th></th>\n",
       "      <th>co</th>\n",
       "      <th>no</th>\n",
       "      <th>no2</th>\n",
       "      <th>o3</th>\n",
       "      <th>so2</th>\n",
       "      <th>pm2_5</th>\n",
       "      <th>pm10</th>\n",
       "      <th>nh3</th>\n",
       "      <th>datetime</th>\n",
       "    </tr>\n",
       "  </thead>\n",
       "  <tbody>\n",
       "    <tr>\n",
       "      <th>0</th>\n",
       "      <td>-0.791461</td>\n",
       "      <td>-0.293499</td>\n",
       "      <td>-1.056092</td>\n",
       "      <td>0.726840</td>\n",
       "      <td>-1.063491</td>\n",
       "      <td>-0.855125</td>\n",
       "      <td>-0.827553</td>\n",
       "      <td>-0.740341</td>\n",
       "      <td>2021-05-08T18:00:00.000Z</td>\n",
       "    </tr>\n",
       "    <tr>\n",
       "      <th>1</th>\n",
       "      <td>-0.610748</td>\n",
       "      <td>-0.315214</td>\n",
       "      <td>-0.533651</td>\n",
       "      <td>0.087571</td>\n",
       "      <td>-0.654927</td>\n",
       "      <td>-0.753689</td>\n",
       "      <td>-0.697906</td>\n",
       "      <td>-0.496950</td>\n",
       "      <td>2021-05-08T06:00:00.000Z</td>\n",
       "    </tr>\n",
       "    <tr>\n",
       "      <th>2</th>\n",
       "      <td>-0.645147</td>\n",
       "      <td>-0.315214</td>\n",
       "      <td>-0.653637</td>\n",
       "      <td>0.170039</td>\n",
       "      <td>-0.809822</td>\n",
       "      <td>-0.764770</td>\n",
       "      <td>-0.722633</td>\n",
       "      <td>-0.580878</td>\n",
       "      <td>2021-05-08T05:00:00.000Z</td>\n",
       "    </tr>\n",
       "    <tr>\n",
       "      <th>3</th>\n",
       "      <td>-0.713998</td>\n",
       "      <td>-0.315214</td>\n",
       "      <td>-0.850615</td>\n",
       "      <td>0.458964</td>\n",
       "      <td>-0.949003</td>\n",
       "      <td>-0.806538</td>\n",
       "      <td>-0.789461</td>\n",
       "      <td>-0.706770</td>\n",
       "      <td>2021-05-08T02:00:00.000Z</td>\n",
       "    </tr>\n",
       "    <tr>\n",
       "      <th>4</th>\n",
       "      <td>-0.627922</td>\n",
       "      <td>-0.315214</td>\n",
       "      <td>-0.610642</td>\n",
       "      <td>0.293741</td>\n",
       "      <td>-0.836761</td>\n",
       "      <td>-0.786080</td>\n",
       "      <td>-0.730652</td>\n",
       "      <td>-0.585075</td>\n",
       "      <td>2021-05-08T00:00:00.000Z</td>\n",
       "    </tr>\n",
       "  </tbody>\n",
       "</table>\n",
       "</div>"
      ],
      "text/plain": [
       "         co        no       no2        o3       so2     pm2_5      pm10  \\\n",
       "0 -0.791461 -0.293499 -1.056092  0.726840 -1.063491 -0.855125 -0.827553   \n",
       "1 -0.610748 -0.315214 -0.533651  0.087571 -0.654927 -0.753689 -0.697906   \n",
       "2 -0.645147 -0.315214 -0.653637  0.170039 -0.809822 -0.764770 -0.722633   \n",
       "3 -0.713998 -0.315214 -0.850615  0.458964 -0.949003 -0.806538 -0.789461   \n",
       "4 -0.627922 -0.315214 -0.610642  0.293741 -0.836761 -0.786080 -0.730652   \n",
       "\n",
       "        nh3                  datetime  \n",
       "0 -0.740341  2021-05-08T18:00:00.000Z  \n",
       "1 -0.496950  2021-05-08T06:00:00.000Z  \n",
       "2 -0.580878  2021-05-08T05:00:00.000Z  \n",
       "3 -0.706770  2021-05-08T02:00:00.000Z  \n",
       "4 -0.585075  2021-05-08T00:00:00.000Z  "
      ]
     },
     "execution_count": 10,
     "metadata": {},
     "output_type": "execute_result"
    }
   ],
   "source": [
    "train_x.head()"
   ]
  },
  {
   "cell_type": "markdown",
   "id": "ca6a21b6",
   "metadata": {},
   "source": [
    "Now we have a dataframe for each train and test x and y! Simple!"
   ]
  },
  {
   "cell_type": "code",
   "execution_count": 11,
   "id": "ca9e71ab",
   "metadata": {
    "scrolled": true
   },
   "outputs": [
    {
     "name": "stdout",
     "output_type": "stream",
     "text": [
      "2020-11-27T12:00:00.000Z 2023-01-19T02:00:00.000Z\n"
     ]
    }
   ],
   "source": [
    "# check that we have the right time period for train and test\n",
    "print(train_x['datetime'].min(), train_x['datetime'].max())"
   ]
  },
  {
   "cell_type": "code",
   "execution_count": 12,
   "id": "f112f8a0",
   "metadata": {},
   "outputs": [
    {
     "data": {
      "text/plain": [
       "co          float64\n",
       "no          float64\n",
       "no2         float64\n",
       "o3          float64\n",
       "so2         float64\n",
       "pm2_5       float64\n",
       "pm10        float64\n",
       "nh3         float64\n",
       "datetime     object\n",
       "dtype: object"
      ]
     },
     "execution_count": 12,
     "metadata": {},
     "output_type": "execute_result"
    }
   ],
   "source": [
    "train_x.dtypes"
   ]
  },
  {
   "cell_type": "code",
   "execution_count": 13,
   "id": "026b87a1",
   "metadata": {},
   "outputs": [],
   "source": [
    "# need to convert datetime from strings\n",
    "train_x.datetime = pd.to_datetime(train_x.datetime)"
   ]
  },
  {
   "cell_type": "code",
   "execution_count": 14,
   "id": "67d4eb6d",
   "metadata": {},
   "outputs": [
    {
     "data": {
      "text/html": [
       "<div>\n",
       "<style scoped>\n",
       "    .dataframe tbody tr th:only-of-type {\n",
       "        vertical-align: middle;\n",
       "    }\n",
       "\n",
       "    .dataframe tbody tr th {\n",
       "        vertical-align: top;\n",
       "    }\n",
       "\n",
       "    .dataframe thead th {\n",
       "        text-align: right;\n",
       "    }\n",
       "</style>\n",
       "<table border=\"1\" class=\"dataframe\">\n",
       "  <thead>\n",
       "    <tr style=\"text-align: right;\">\n",
       "      <th></th>\n",
       "      <th>co</th>\n",
       "      <th>no</th>\n",
       "      <th>no2</th>\n",
       "      <th>o3</th>\n",
       "      <th>so2</th>\n",
       "      <th>pm2_5</th>\n",
       "      <th>pm10</th>\n",
       "      <th>nh3</th>\n",
       "      <th>datetime</th>\n",
       "    </tr>\n",
       "  </thead>\n",
       "  <tbody>\n",
       "    <tr>\n",
       "      <th>0</th>\n",
       "      <td>-0.791461</td>\n",
       "      <td>-0.293499</td>\n",
       "      <td>-1.056092</td>\n",
       "      <td>0.726840</td>\n",
       "      <td>-1.063491</td>\n",
       "      <td>-0.855125</td>\n",
       "      <td>-0.827553</td>\n",
       "      <td>-0.740341</td>\n",
       "      <td>2021-05-08 18:00:00+00:00</td>\n",
       "    </tr>\n",
       "    <tr>\n",
       "      <th>1</th>\n",
       "      <td>-0.610748</td>\n",
       "      <td>-0.315214</td>\n",
       "      <td>-0.533651</td>\n",
       "      <td>0.087571</td>\n",
       "      <td>-0.654927</td>\n",
       "      <td>-0.753689</td>\n",
       "      <td>-0.697906</td>\n",
       "      <td>-0.496950</td>\n",
       "      <td>2021-05-08 06:00:00+00:00</td>\n",
       "    </tr>\n",
       "    <tr>\n",
       "      <th>2</th>\n",
       "      <td>-0.645147</td>\n",
       "      <td>-0.315214</td>\n",
       "      <td>-0.653637</td>\n",
       "      <td>0.170039</td>\n",
       "      <td>-0.809822</td>\n",
       "      <td>-0.764770</td>\n",
       "      <td>-0.722633</td>\n",
       "      <td>-0.580878</td>\n",
       "      <td>2021-05-08 05:00:00+00:00</td>\n",
       "    </tr>\n",
       "    <tr>\n",
       "      <th>3</th>\n",
       "      <td>-0.713998</td>\n",
       "      <td>-0.315214</td>\n",
       "      <td>-0.850615</td>\n",
       "      <td>0.458964</td>\n",
       "      <td>-0.949003</td>\n",
       "      <td>-0.806538</td>\n",
       "      <td>-0.789461</td>\n",
       "      <td>-0.706770</td>\n",
       "      <td>2021-05-08 02:00:00+00:00</td>\n",
       "    </tr>\n",
       "    <tr>\n",
       "      <th>4</th>\n",
       "      <td>-0.627922</td>\n",
       "      <td>-0.315214</td>\n",
       "      <td>-0.610642</td>\n",
       "      <td>0.293741</td>\n",
       "      <td>-0.836761</td>\n",
       "      <td>-0.786080</td>\n",
       "      <td>-0.730652</td>\n",
       "      <td>-0.585075</td>\n",
       "      <td>2021-05-08 00:00:00+00:00</td>\n",
       "    </tr>\n",
       "  </tbody>\n",
       "</table>\n",
       "</div>"
      ],
      "text/plain": [
       "         co        no       no2        o3       so2     pm2_5      pm10  \\\n",
       "0 -0.791461 -0.293499 -1.056092  0.726840 -1.063491 -0.855125 -0.827553   \n",
       "1 -0.610748 -0.315214 -0.533651  0.087571 -0.654927 -0.753689 -0.697906   \n",
       "2 -0.645147 -0.315214 -0.653637  0.170039 -0.809822 -0.764770 -0.722633   \n",
       "3 -0.713998 -0.315214 -0.850615  0.458964 -0.949003 -0.806538 -0.789461   \n",
       "4 -0.627922 -0.315214 -0.610642  0.293741 -0.836761 -0.786080 -0.730652   \n",
       "\n",
       "        nh3                  datetime  \n",
       "0 -0.740341 2021-05-08 18:00:00+00:00  \n",
       "1 -0.496950 2021-05-08 06:00:00+00:00  \n",
       "2 -0.580878 2021-05-08 05:00:00+00:00  \n",
       "3 -0.706770 2021-05-08 02:00:00+00:00  \n",
       "4 -0.585075 2021-05-08 00:00:00+00:00  "
      ]
     },
     "execution_count": 14,
     "metadata": {},
     "output_type": "execute_result"
    }
   ],
   "source": [
    "train_x.head()"
   ]
  },
  {
   "cell_type": "code",
   "execution_count": 15,
   "id": "1c65fc4f",
   "metadata": {},
   "outputs": [],
   "source": [
    "# data points are not in order\n",
    "train_x = train_x.sort_values(\"datetime\")\n",
    "train_y = train_y.reindex(train_x.index)"
   ]
  },
  {
   "cell_type": "code",
   "execution_count": 16,
   "id": "51fc6c09",
   "metadata": {},
   "outputs": [
    {
     "name": "stdout",
     "output_type": "stream",
     "text": [
      "2020-11-27 12:00:00+00:00 2023-01-19 02:00:00+00:00\n"
     ]
    }
   ],
   "source": [
    "print(train_x['datetime'].min(), train_x['datetime'].max())"
   ]
  },
  {
   "cell_type": "code",
   "execution_count": 17,
   "id": "fc217a41",
   "metadata": {},
   "outputs": [],
   "source": [
    "# need to remove time zone information\n",
    "train_x['datetime'] = train_x['datetime'].dt.tz_localize(None)"
   ]
  },
  {
   "cell_type": "code",
   "execution_count": 18,
   "id": "8241daaf",
   "metadata": {},
   "outputs": [
    {
     "name": "stdout",
     "output_type": "stream",
     "text": [
      "2020-11-27 12:00:00 2023-01-19 02:00:00\n"
     ]
    }
   ],
   "source": [
    "print(train_x['datetime'].min(), train_x['datetime'].max())"
   ]
  },
  {
   "cell_type": "code",
   "execution_count": 19,
   "id": "d6dad5dc",
   "metadata": {},
   "outputs": [],
   "source": [
    "# use the datetime as index now\n",
    "train_x = train_x.reset_index(drop=True)\n",
    "train_x = train_x.set_index('datetime')"
   ]
  },
  {
   "cell_type": "code",
   "execution_count": 20,
   "id": "86b6f0da",
   "metadata": {},
   "outputs": [],
   "source": [
    "train_y = train_y.reset_index(drop=True)\n",
    "train_y = train_y.set_index(train_x.index)\n",
    "train_y['aqi'] = train_y['aqi']-1  # xgboost requires zero indexed categories for classification"
   ]
  },
  {
   "cell_type": "code",
   "execution_count": 21,
   "id": "1241cd88",
   "metadata": {},
   "outputs": [
    {
     "data": {
      "text/html": [
       "<div>\n",
       "<style scoped>\n",
       "    .dataframe tbody tr th:only-of-type {\n",
       "        vertical-align: middle;\n",
       "    }\n",
       "\n",
       "    .dataframe tbody tr th {\n",
       "        vertical-align: top;\n",
       "    }\n",
       "\n",
       "    .dataframe thead th {\n",
       "        text-align: right;\n",
       "    }\n",
       "</style>\n",
       "<table border=\"1\" class=\"dataframe\">\n",
       "  <thead>\n",
       "    <tr style=\"text-align: right;\">\n",
       "      <th></th>\n",
       "      <th>co</th>\n",
       "      <th>no</th>\n",
       "      <th>no2</th>\n",
       "      <th>o3</th>\n",
       "      <th>so2</th>\n",
       "      <th>pm2_5</th>\n",
       "      <th>pm10</th>\n",
       "      <th>nh3</th>\n",
       "    </tr>\n",
       "    <tr>\n",
       "      <th>datetime</th>\n",
       "      <th></th>\n",
       "      <th></th>\n",
       "      <th></th>\n",
       "      <th></th>\n",
       "      <th></th>\n",
       "      <th></th>\n",
       "      <th></th>\n",
       "      <th></th>\n",
       "    </tr>\n",
       "  </thead>\n",
       "  <tbody>\n",
       "    <tr>\n",
       "      <th>2023-01-18 22:00:00</th>\n",
       "      <td>-0.524671</td>\n",
       "      <td>-0.313699</td>\n",
       "      <td>-0.645138</td>\n",
       "      <td>-0.273441</td>\n",
       "      <td>-0.702069</td>\n",
       "      <td>-0.752836</td>\n",
       "      <td>-0.756047</td>\n",
       "      <td>-0.660610</td>\n",
       "    </tr>\n",
       "    <tr>\n",
       "      <th>2023-01-18 23:00:00</th>\n",
       "      <td>-0.421369</td>\n",
       "      <td>-0.312184</td>\n",
       "      <td>-0.525152</td>\n",
       "      <td>-0.572458</td>\n",
       "      <td>-0.729008</td>\n",
       "      <td>-0.685496</td>\n",
       "      <td>-0.703921</td>\n",
       "      <td>-0.652217</td>\n",
       "    </tr>\n",
       "    <tr>\n",
       "      <th>2023-01-19 00:00:00</th>\n",
       "      <td>-0.352519</td>\n",
       "      <td>-0.312184</td>\n",
       "      <td>-0.593644</td>\n",
       "      <td>-0.592931</td>\n",
       "      <td>-1.007370</td>\n",
       "      <td>-0.682939</td>\n",
       "      <td>-0.709267</td>\n",
       "      <td>-0.669003</td>\n",
       "    </tr>\n",
       "    <tr>\n",
       "      <th>2023-01-19 01:00:00</th>\n",
       "      <td>-0.369744</td>\n",
       "      <td>-0.313699</td>\n",
       "      <td>-0.735128</td>\n",
       "      <td>-0.500083</td>\n",
       "      <td>-1.029818</td>\n",
       "      <td>-0.742608</td>\n",
       "      <td>-0.768076</td>\n",
       "      <td>-0.706770</td>\n",
       "    </tr>\n",
       "    <tr>\n",
       "      <th>2023-01-19 02:00:00</th>\n",
       "      <td>-0.369744</td>\n",
       "      <td>-0.314204</td>\n",
       "      <td>-0.747627</td>\n",
       "      <td>-0.407523</td>\n",
       "      <td>-0.955738</td>\n",
       "      <td>-0.740903</td>\n",
       "      <td>-0.766739</td>\n",
       "      <td>-0.706770</td>\n",
       "    </tr>\n",
       "  </tbody>\n",
       "</table>\n",
       "</div>"
      ],
      "text/plain": [
       "                           co        no       no2        o3       so2  \\\n",
       "datetime                                                                \n",
       "2023-01-18 22:00:00 -0.524671 -0.313699 -0.645138 -0.273441 -0.702069   \n",
       "2023-01-18 23:00:00 -0.421369 -0.312184 -0.525152 -0.572458 -0.729008   \n",
       "2023-01-19 00:00:00 -0.352519 -0.312184 -0.593644 -0.592931 -1.007370   \n",
       "2023-01-19 01:00:00 -0.369744 -0.313699 -0.735128 -0.500083 -1.029818   \n",
       "2023-01-19 02:00:00 -0.369744 -0.314204 -0.747627 -0.407523 -0.955738   \n",
       "\n",
       "                        pm2_5      pm10       nh3  \n",
       "datetime                                           \n",
       "2023-01-18 22:00:00 -0.752836 -0.756047 -0.660610  \n",
       "2023-01-18 23:00:00 -0.685496 -0.703921 -0.652217  \n",
       "2023-01-19 00:00:00 -0.682939 -0.709267 -0.669003  \n",
       "2023-01-19 01:00:00 -0.742608 -0.768076 -0.706770  \n",
       "2023-01-19 02:00:00 -0.740903 -0.766739 -0.706770  "
      ]
     },
     "execution_count": 21,
     "metadata": {},
     "output_type": "execute_result"
    }
   ],
   "source": [
    "train_x.tail()"
   ]
  },
  {
   "cell_type": "code",
   "execution_count": 22,
   "id": "338f7590",
   "metadata": {},
   "outputs": [
    {
     "data": {
      "text/html": [
       "<div>\n",
       "<style scoped>\n",
       "    .dataframe tbody tr th:only-of-type {\n",
       "        vertical-align: middle;\n",
       "    }\n",
       "\n",
       "    .dataframe tbody tr th {\n",
       "        vertical-align: top;\n",
       "    }\n",
       "\n",
       "    .dataframe thead th {\n",
       "        text-align: right;\n",
       "    }\n",
       "</style>\n",
       "<table border=\"1\" class=\"dataframe\">\n",
       "  <thead>\n",
       "    <tr style=\"text-align: right;\">\n",
       "      <th></th>\n",
       "      <th>aqi</th>\n",
       "      <th>id</th>\n",
       "    </tr>\n",
       "    <tr>\n",
       "      <th>datetime</th>\n",
       "      <th></th>\n",
       "      <th></th>\n",
       "    </tr>\n",
       "  </thead>\n",
       "  <tbody>\n",
       "    <tr>\n",
       "      <th>2023-01-18 22:00:00</th>\n",
       "      <td>0</td>\n",
       "      <td>18596</td>\n",
       "    </tr>\n",
       "    <tr>\n",
       "      <th>2023-01-18 23:00:00</th>\n",
       "      <td>0</td>\n",
       "      <td>18597</td>\n",
       "    </tr>\n",
       "    <tr>\n",
       "      <th>2023-01-19 00:00:00</th>\n",
       "      <td>0</td>\n",
       "      <td>18598</td>\n",
       "    </tr>\n",
       "    <tr>\n",
       "      <th>2023-01-19 01:00:00</th>\n",
       "      <td>0</td>\n",
       "      <td>18599</td>\n",
       "    </tr>\n",
       "    <tr>\n",
       "      <th>2023-01-19 02:00:00</th>\n",
       "      <td>0</td>\n",
       "      <td>18600</td>\n",
       "    </tr>\n",
       "  </tbody>\n",
       "</table>\n",
       "</div>"
      ],
      "text/plain": [
       "                     aqi     id\n",
       "datetime                       \n",
       "2023-01-18 22:00:00    0  18596\n",
       "2023-01-18 23:00:00    0  18597\n",
       "2023-01-19 00:00:00    0  18598\n",
       "2023-01-19 01:00:00    0  18599\n",
       "2023-01-19 02:00:00    0  18600"
      ]
     },
     "execution_count": 22,
     "metadata": {},
     "output_type": "execute_result"
    }
   ],
   "source": [
    "train_y.tail()"
   ]
  },
  {
   "cell_type": "code",
   "execution_count": 62,
   "id": "af8e7561",
   "metadata": {},
   "outputs": [],
   "source": [
    "# concat\n",
    "train = pd.concat([train_x, train_y], axis=1)\n",
    "train = train.drop(columns=['id'])"
   ]
  },
  {
   "cell_type": "code",
   "execution_count": 63,
   "id": "8acdf466",
   "metadata": {},
   "outputs": [
    {
     "data": {
      "text/html": [
       "<div>\n",
       "<style scoped>\n",
       "    .dataframe tbody tr th:only-of-type {\n",
       "        vertical-align: middle;\n",
       "    }\n",
       "\n",
       "    .dataframe tbody tr th {\n",
       "        vertical-align: top;\n",
       "    }\n",
       "\n",
       "    .dataframe thead th {\n",
       "        text-align: right;\n",
       "    }\n",
       "</style>\n",
       "<table border=\"1\" class=\"dataframe\">\n",
       "  <thead>\n",
       "    <tr style=\"text-align: right;\">\n",
       "      <th></th>\n",
       "      <th>co</th>\n",
       "      <th>no</th>\n",
       "      <th>no2</th>\n",
       "      <th>o3</th>\n",
       "      <th>so2</th>\n",
       "      <th>pm2_5</th>\n",
       "      <th>pm10</th>\n",
       "      <th>nh3</th>\n",
       "      <th>aqi</th>\n",
       "    </tr>\n",
       "    <tr>\n",
       "      <th>datetime</th>\n",
       "      <th></th>\n",
       "      <th></th>\n",
       "      <th></th>\n",
       "      <th></th>\n",
       "      <th></th>\n",
       "      <th></th>\n",
       "      <th></th>\n",
       "      <th></th>\n",
       "      <th></th>\n",
       "    </tr>\n",
       "  </thead>\n",
       "  <tbody>\n",
       "    <tr>\n",
       "      <th>2020-11-27 12:00:00</th>\n",
       "      <td>0.886949</td>\n",
       "      <td>1.028102</td>\n",
       "      <td>1.068668</td>\n",
       "      <td>-1.451633</td>\n",
       "      <td>2.207264</td>\n",
       "      <td>0.752517</td>\n",
       "      <td>0.962775</td>\n",
       "      <td>0.329741</td>\n",
       "      <td>1</td>\n",
       "    </tr>\n",
       "    <tr>\n",
       "      <th>2020-11-27 13:00:00</th>\n",
       "      <td>0.852498</td>\n",
       "      <td>1.073048</td>\n",
       "      <td>1.068668</td>\n",
       "      <td>-1.463167</td>\n",
       "      <td>2.422770</td>\n",
       "      <td>0.747403</td>\n",
       "      <td>0.934039</td>\n",
       "      <td>0.346526</td>\n",
       "      <td>1</td>\n",
       "    </tr>\n",
       "    <tr>\n",
       "      <th>2020-11-27 14:00:00</th>\n",
       "      <td>0.370491</td>\n",
       "      <td>0.322609</td>\n",
       "      <td>0.760203</td>\n",
       "      <td>-1.124069</td>\n",
       "      <td>1.271159</td>\n",
       "      <td>0.616984</td>\n",
       "      <td>0.643336</td>\n",
       "      <td>-0.052132</td>\n",
       "      <td>1</td>\n",
       "    </tr>\n",
       "    <tr>\n",
       "      <th>2020-11-27 15:00:00</th>\n",
       "      <td>0.095088</td>\n",
       "      <td>0.079701</td>\n",
       "      <td>0.245761</td>\n",
       "      <td>-0.675399</td>\n",
       "      <td>0.575254</td>\n",
       "      <td>0.503614</td>\n",
       "      <td>0.449534</td>\n",
       "      <td>-0.140256</td>\n",
       "      <td>1</td>\n",
       "    </tr>\n",
       "    <tr>\n",
       "      <th>2020-11-27 16:00:00</th>\n",
       "      <td>-0.042665</td>\n",
       "      <td>-0.047056</td>\n",
       "      <td>0.108776</td>\n",
       "      <td>-0.479610</td>\n",
       "      <td>0.388931</td>\n",
       "      <td>0.311822</td>\n",
       "      <td>0.251054</td>\n",
       "      <td>-0.102489</td>\n",
       "      <td>1</td>\n",
       "    </tr>\n",
       "  </tbody>\n",
       "</table>\n",
       "</div>"
      ],
      "text/plain": [
       "                           co        no       no2        o3       so2  \\\n",
       "datetime                                                                \n",
       "2020-11-27 12:00:00  0.886949  1.028102  1.068668 -1.451633  2.207264   \n",
       "2020-11-27 13:00:00  0.852498  1.073048  1.068668 -1.463167  2.422770   \n",
       "2020-11-27 14:00:00  0.370491  0.322609  0.760203 -1.124069  1.271159   \n",
       "2020-11-27 15:00:00  0.095088  0.079701  0.245761 -0.675399  0.575254   \n",
       "2020-11-27 16:00:00 -0.042665 -0.047056  0.108776 -0.479610  0.388931   \n",
       "\n",
       "                        pm2_5      pm10       nh3  aqi  \n",
       "datetime                                                \n",
       "2020-11-27 12:00:00  0.752517  0.962775  0.329741    1  \n",
       "2020-11-27 13:00:00  0.747403  0.934039  0.346526    1  \n",
       "2020-11-27 14:00:00  0.616984  0.643336 -0.052132    1  \n",
       "2020-11-27 15:00:00  0.503614  0.449534 -0.140256    1  \n",
       "2020-11-27 16:00:00  0.311822  0.251054 -0.102489    1  "
      ]
     },
     "execution_count": 63,
     "metadata": {},
     "output_type": "execute_result"
    }
   ],
   "source": [
    "train.head()"
   ]
  },
  {
   "cell_type": "markdown",
   "id": "1467f0e9",
   "metadata": {},
   "source": [
    "## Modeling with XGBoost"
   ]
  },
  {
   "cell_type": "markdown",
   "id": "70ee95d4",
   "metadata": {},
   "source": [
    "We have our training and testing data all set up, and now we can use a model to predict future values of the AQI. Originally, I was going to use Prophet for this task. However, Prophet was constantly underfitting the data and the mechanisms for adding regressor was weird. I have many features available to use for prediction. In addition, because my target variable is integral on a range of 1 to 5, I am going to pose this as a classification task. Prophet does not support classification."
   ]
  },
  {
   "cell_type": "markdown",
   "id": "2c3a681e",
   "metadata": {},
   "source": [
    "Alright, so we need to do a little bit of preprocessing. We'll make some cross validation folds so that we can find the best model. After training, I'll write a function to compute some lag features so that we can make predictions into the future."
   ]
  },
  {
   "cell_type": "code",
   "execution_count": 64,
   "id": "090f4ec1",
   "metadata": {},
   "outputs": [],
   "source": [
    "from sklearn.model_selection import TimeSeriesSplit\n",
    "import matplotlib.pyplot as plt"
   ]
  },
  {
   "cell_type": "code",
   "execution_count": 65,
   "id": "27a2cdaa",
   "metadata": {},
   "outputs": [],
   "source": [
    "tss = TimeSeriesSplit(n_splits=3, test_size=24*90*1, gap=24)"
   ]
  },
  {
   "cell_type": "code",
   "execution_count": 66,
   "id": "c4b2ef57",
   "metadata": {},
   "outputs": [
    {
     "data": {
      "image/png": "[encoded data removed]",
      "text/plain": [
       "<Figure size 1080x1080 with 3 Axes>"
      ]
     },
     "metadata": {
      "needs_background": "light"
     },
     "output_type": "display_data"
    }
   ],
   "source": [
    "fig, axs = plt.subplots(3, 1, figsize=(15,15), sharex=True)\n",
    "\n",
    "fold = 0\n",
    "for train_idx, val_idx in tss.split(train):\n",
    "    train_val = train.iloc[train_idx]\n",
    "    test_val = train.iloc[val_idx]\n",
    "    train_val['aqi'].plot(ax=axs[fold], \n",
    "                          label='Training Set', \n",
    "                          title=f'Cross Validation Fold {fold} Data Train/Test')\n",
    "    test_val['aqi'].plot(ax=axs[fold], \n",
    "                          label='Test Set')\n",
    "    axs[fold].axvline(test_val.index.min(), color='black', ls='--')\n",
    "    fold += 1    "
   ]
  },
  {
   "cell_type": "markdown",
   "id": "7180c88a",
   "metadata": {},
   "source": [
    "### Forecasting Horizon\n",
    "\n",
    "We're going to be predicting data 3 days into the future. Thus our forecasting horizon will be 3 days."
   ]
  },
  {
   "cell_type": "code",
   "execution_count": 67,
   "id": "4425a125",
   "metadata": {},
   "outputs": [],
   "source": [
    "def add_lags(df: pd.DataFrame) -> pd.DataFrame:\n",
    "    target_map = df['aqi'].to_dict()\n",
    "    df['lag3'] = (df.index - pd.Timedelta('3 days')).map(target_map)\n",
    "    return df"
   ]
  },
  {
   "cell_type": "code",
   "execution_count": 68,
   "id": "b2cb156f",
   "metadata": {},
   "outputs": [],
   "source": [
    "df = add_lags(train).copy()"
   ]
  },
  {
   "cell_type": "code",
   "execution_count": 69,
   "id": "15adb329",
   "metadata": {},
   "outputs": [
    {
     "data": {
      "text/plain": [
       "0    8855\n",
       "1    7034\n",
       "2    1363\n",
       "3    1088\n",
       "4     249\n",
       "Name: aqi, dtype: int64"
      ]
     },
     "execution_count": 69,
     "metadata": {},
     "output_type": "execute_result"
    }
   ],
   "source": [
    "df['aqi'].value_counts()"
   ]
  },
  {
   "cell_type": "markdown",
   "id": "c66adb1b",
   "metadata": {},
   "source": [
    "## Training XGBoost"
   ]
  },
  {
   "cell_type": "code",
   "execution_count": 70,
   "id": "12e0a438",
   "metadata": {},
   "outputs": [],
   "source": [
    "import xgboost as xgb\n",
    "from sklearn.metrics import log_loss"
   ]
  },
  {
   "cell_type": "code",
   "execution_count": 77,
   "id": "eae63f7a",
   "metadata": {},
   "outputs": [],
   "source": [
    "fold = 0\n",
    "preds = []\n",
    "scores = []"
   ]
  },
  {
   "cell_type": "code",
   "execution_count": 78,
   "id": "979d5586",
   "metadata": {},
   "outputs": [
    {
     "name": "stdout",
     "output_type": "stream",
     "text": [
      "[0]\tvalidation_0-mlogloss:1.48683\tvalidation_1-mlogloss:1.48698\n",
      "[10]\tvalidation_0-mlogloss:0.77410\tvalidation_1-mlogloss:0.77534\n",
      "[20]\tvalidation_0-mlogloss:0.44345\tvalidation_1-mlogloss:0.44529\n",
      "[30]\tvalidation_0-mlogloss:0.26199\tvalidation_1-mlogloss:0.26435\n",
      "[40]\tvalidation_0-mlogloss:0.15709\tvalidation_1-mlogloss:0.15982\n",
      "[50]\tvalidation_0-mlogloss:0.09517\tvalidation_1-mlogloss:0.09814\n",
      "[60]\tvalidation_0-mlogloss:0.05861\tvalidation_1-mlogloss:0.06169\n",
      "[70]\tvalidation_0-mlogloss:0.03654\tvalidation_1-mlogloss:0.03983\n",
      "[80]\tvalidation_0-mlogloss:0.02306\tvalidation_1-mlogloss:0.02662\n",
      "[90]\tvalidation_0-mlogloss:0.01488\tvalidation_1-mlogloss:0.01867\n",
      "[100]\tvalidation_0-mlogloss:0.00981\tvalidation_1-mlogloss:0.01381\n",
      "[110]\tvalidation_0-mlogloss:0.00669\tvalidation_1-mlogloss:0.01088\n",
      "[120]\tvalidation_0-mlogloss:0.00469\tvalidation_1-mlogloss:0.00895\n",
      "[130]\tvalidation_0-mlogloss:0.00341\tvalidation_1-mlogloss:0.00769\n",
      "[140]\tvalidation_0-mlogloss:0.00258\tvalidation_1-mlogloss:0.00683\n",
      "[150]\tvalidation_0-mlogloss:0.00202\tvalidation_1-mlogloss:0.00612\n",
      "[160]\tvalidation_0-mlogloss:0.00163\tvalidation_1-mlogloss:0.00552\n",
      "[170]\tvalidation_0-mlogloss:0.00135\tvalidation_1-mlogloss:0.00504\n",
      "[180]\tvalidation_0-mlogloss:0.00113\tvalidation_1-mlogloss:0.00484\n",
      "[190]\tvalidation_0-mlogloss:0.00097\tvalidation_1-mlogloss:0.00477\n",
      "[200]\tvalidation_0-mlogloss:0.00084\tvalidation_1-mlogloss:0.00472\n",
      "[210]\tvalidation_0-mlogloss:0.00074\tvalidation_1-mlogloss:0.00473\n",
      "[220]\tvalidation_0-mlogloss:0.00068\tvalidation_1-mlogloss:0.00482\n",
      "[230]\tvalidation_0-mlogloss:0.00062\tvalidation_1-mlogloss:0.00492\n",
      "[240]\tvalidation_0-mlogloss:0.00059\tvalidation_1-mlogloss:0.00501\n",
      "[250]\tvalidation_0-mlogloss:0.00055\tvalidation_1-mlogloss:0.00502\n",
      "[254]\tvalidation_0-mlogloss:0.00054\tvalidation_1-mlogloss:0.00503\n",
      "[0]\tvalidation_0-mlogloss:1.48678\tvalidation_1-mlogloss:1.48733\n",
      "[10]\tvalidation_0-mlogloss:0.77569\tvalidation_1-mlogloss:0.77752\n",
      "[20]\tvalidation_0-mlogloss:0.44356\tvalidation_1-mlogloss:0.44617\n",
      "[30]\tvalidation_0-mlogloss:0.26162\tvalidation_1-mlogloss:0.26466\n",
      "[40]\tvalidation_0-mlogloss:0.15666\tvalidation_1-mlogloss:0.15998\n",
      "[50]\tvalidation_0-mlogloss:0.09454\tvalidation_1-mlogloss:0.09810\n",
      "[60]\tvalidation_0-mlogloss:0.05810\tvalidation_1-mlogloss:0.06193\n",
      "[70]\tvalidation_0-mlogloss:0.03597\tvalidation_1-mlogloss:0.04001\n",
      "[80]\tvalidation_0-mlogloss:0.02252\tvalidation_1-mlogloss:0.02676\n",
      "[90]\tvalidation_0-mlogloss:0.01437\tvalidation_1-mlogloss:0.01888\n",
      "[100]\tvalidation_0-mlogloss:0.00935\tvalidation_1-mlogloss:0.01406\n",
      "[110]\tvalidation_0-mlogloss:0.00624\tvalidation_1-mlogloss:0.01125\n",
      "[120]\tvalidation_0-mlogloss:0.00430\tvalidation_1-mlogloss:0.00965\n",
      "[130]\tvalidation_0-mlogloss:0.00305\tvalidation_1-mlogloss:0.00872\n",
      "[140]\tvalidation_0-mlogloss:0.00223\tvalidation_1-mlogloss:0.00806\n",
      "[150]\tvalidation_0-mlogloss:0.00169\tvalidation_1-mlogloss:0.00768\n",
      "[160]\tvalidation_0-mlogloss:0.00133\tvalidation_1-mlogloss:0.00752\n",
      "[170]\tvalidation_0-mlogloss:0.00108\tvalidation_1-mlogloss:0.00739\n",
      "[180]\tvalidation_0-mlogloss:0.00090\tvalidation_1-mlogloss:0.00734\n",
      "[190]\tvalidation_0-mlogloss:0.00077\tvalidation_1-mlogloss:0.00724\n",
      "[200]\tvalidation_0-mlogloss:0.00067\tvalidation_1-mlogloss:0.00728\n",
      "[210]\tvalidation_0-mlogloss:0.00059\tvalidation_1-mlogloss:0.00730\n",
      "[220]\tvalidation_0-mlogloss:0.00053\tvalidation_1-mlogloss:0.00732\n",
      "[230]\tvalidation_0-mlogloss:0.00049\tvalidation_1-mlogloss:0.00728\n",
      "[240]\tvalidation_0-mlogloss:0.00046\tvalidation_1-mlogloss:0.00729\n",
      "[241]\tvalidation_0-mlogloss:0.00046\tvalidation_1-mlogloss:0.00730\n",
      "[0]\tvalidation_0-mlogloss:1.49121\tvalidation_1-mlogloss:1.50603\n",
      "[10]\tvalidation_0-mlogloss:0.77728\tvalidation_1-mlogloss:0.89639\n",
      "[20]\tvalidation_0-mlogloss:0.44443\tvalidation_1-mlogloss:0.63561\n",
      "[30]\tvalidation_0-mlogloss:0.26214\tvalidation_1-mlogloss:0.51396\n",
      "[40]\tvalidation_0-mlogloss:0.15691\tvalidation_1-mlogloss:0.46381\n",
      "[50]\tvalidation_0-mlogloss:0.09554\tvalidation_1-mlogloss:0.45337\n",
      "[60]\tvalidation_0-mlogloss:0.05861\tvalidation_1-mlogloss:0.46552\n",
      "[70]\tvalidation_0-mlogloss:0.03625\tvalidation_1-mlogloss:0.49040\n",
      "[80]\tvalidation_0-mlogloss:0.02277\tvalidation_1-mlogloss:0.52211\n",
      "[90]\tvalidation_0-mlogloss:0.01461\tvalidation_1-mlogloss:0.55633\n",
      "[98]\tvalidation_0-mlogloss:0.01046\tvalidation_1-mlogloss:0.58319\n"
     ]
    }
   ],
   "source": [
    "for train_idx, val_idx in tss.split(df):\n",
    "    train = df.iloc[train_idx]\n",
    "    test = df.iloc[val_idx]\n",
    "    \n",
    "    features = ['co', 'no', 'no2', 'o3', 'so2', 'pm2_5', 'pm10', 'nh3', 'lag3']\n",
    "    target = 'aqi'\n",
    "    \n",
    "    x_train = train[features]\n",
    "    y_train = train[target]\n",
    "    \n",
    "    x_test = test[features]\n",
    "    y_test = test[target]\n",
    "    \n",
    "    clf = xgb.XGBClassifier(n_estimators=1000, \n",
    "                            booster='gbtree',\n",
    "                            early_stopping_rounds=50,\n",
    "                            max_depth=3,\n",
    "                            learning_rate=0.05)\n",
    "    clf.fit(x_train, y_train,\n",
    "            eval_set=[(x_train, y_train), (x_test, y_test)],\n",
    "            verbose=10)\n",
    "    \n",
    "    y_pred = clf.predict_proba(x_test)\n",
    "    preds.append(y_pred)\n",
    "    score = log_loss(y_test, y_pred)\n",
    "    scores.append(score)"
   ]
  },
  {
   "cell_type": "code",
   "execution_count": 79,
   "id": "c05b58da",
   "metadata": {},
   "outputs": [
    {
     "data": {
      "text/plain": [
       "[0.004696813281434178, 0.0072303198238202, 0.453182144973565]"
      ]
     },
     "execution_count": 79,
     "metadata": {},
     "output_type": "execute_result"
    }
   ],
   "source": [
    "scores"
   ]
  },
  {
   "cell_type": "code",
   "execution_count": 80,
   "id": "c784b618",
   "metadata": {},
   "outputs": [],
   "source": [
    "preds = clf.predict(x_train)"
   ]
  },
  {
   "cell_type": "code",
   "execution_count": 81,
   "id": "a2a5db32",
   "metadata": {},
   "outputs": [],
   "source": [
    "preds = pd.DataFrame({'aqi': preds}, index=x_train.index)"
   ]
  },
  {
   "cell_type": "code",
   "execution_count": null,
   "id": "c3ad6409",
   "metadata": {},
   "outputs": [],
   "source": [
    "preds"
   ]
  },
  {
   "cell_type": "code",
   "execution_count": null,
   "id": "df5cbce6",
   "metadata": {},
   "outputs": [],
   "source": [
    "from sklearn.metrics import confusion_matrix\n",
    "\n",
    "cf = confusion_matrix(y_train['aqi'],preds['aqi'])"
   ]
  },
  {
   "cell_type": "code",
   "execution_count": null,
   "id": "ae583f11",
   "metadata": {},
   "outputs": [],
   "source": [
    "import seaborn as sns\n",
    "sns.heatmap(cf, annot=True)"
   ]
  },
  {
   "cell_type": "code",
   "execution_count": null,
   "id": "c70c782c",
   "metadata": {},
   "outputs": [],
   "source": [
    "x_test = test_x.reset_index(drop=True)\n",
    "x_test = x_test.set_index('datetime')\n",
    "\n",
    "y_test = test_y[['aqi']]\n",
    "y_test = y_test.reset_index(drop=True)\n",
    "y_test = y_test.set_index(x_test.index)\n",
    "y_test['aqi'] = y_test['aqi']-1\n",
    "\n",
    "\n",
    "preds = clf.predict(x_test)\n",
    "preds = pd.DataFrame({'aqi': preds}, index=x_test.index)\n",
    "\n",
    "cf = confusion_matrix(y_test['aqi'], preds['aqi'])\n",
    "sns.heatmap(cf, annot=True)"
   ]
  },
  {
   "cell_type": "code",
   "execution_count": null,
   "id": "8ab806ce",
   "metadata": {},
   "outputs": [],
   "source": []
  }
 ],
 "metadata": {
  "kernelspec": {
   "display_name": "Python 3 (ipykernel)",
   "language": "python",
   "name": "python3"
  },
  "language_info": {
   "codemirror_mode": {
    "name": "ipython",
    "version": 3
   },
   "file_extension": ".py",
   "mimetype": "text/x-python",
   "name": "python",
   "nbconvert_exporter": "python",
   "pygments_lexer": "ipython3",
   "version": "3.9.10"
  }
 },
 "nbformat": 4,
 "nbformat_minor": 5
}

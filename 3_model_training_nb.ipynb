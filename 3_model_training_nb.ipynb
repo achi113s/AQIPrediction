{
 "cells": [
  {
   "cell_type": "markdown",
   "id": "ea668df1",
   "metadata": {},
   "source": [
    "# Training a Model\n",
    "\n",
    "Now that we've got data in Hopsworks and the architecture for updating it, we can go ahead and start writing our model training data. Since we're working with time series data that has strong seasonality, I'm going to use Meta's Prophet algorithm.\n",
    "\n",
    "Since our data is hosted on Hopsworks, we need to get it:"
   ]
  },
  {
   "cell_type": "code",
   "execution_count": 1,
   "id": "7a36d146",
   "metadata": {},
   "outputs": [
    {
     "name": "stdout",
     "output_type": "stream",
     "text": [
      "Connected. Call `.close()` to terminate connection gracefully.\n",
      "\n",
      "Logged in to project, explore it here https://c.app.hopsworks.ai:443/p/14486\n",
      "Connected. Call `.close()` to terminate connection gracefully.\n"
     ]
    },
    {
     "name": "stderr",
     "output_type": "stream",
     "text": [
      "DeprecationWarning: the imp module is deprecated in favour of importlib; see the module's documentation for alternative uses\n"
     ]
    }
   ],
   "source": [
    "import hopsworks\n",
    "\n",
    "project = hopsworks.login()\n",
    "\n",
    "fs = project.get_feature_store()"
   ]
  },
  {
   "cell_type": "code",
   "execution_count": 2,
   "id": "81e49a50",
   "metadata": {},
   "outputs": [],
   "source": [
    "# Load feature groups.\n",
    "zip_code = '60603'  # Chicago\n",
    "country_code = 'US'\n",
    "city = 'Chicago'\n",
    "\n",
    "fg_name = f'aqi_{city}_{zip_code}'.lower()\n",
    "\n",
    "aqi_online_fg = fs.get_feature_group(fg_name, version=1)\n",
    "\n",
    "not_features = ['date', 'lat', 'lon']\n",
    "\n",
    "ds_query = aqi_online_fg.select_except(not_features)"
   ]
  },
  {
   "cell_type": "code",
   "execution_count": 3,
   "id": "486e38c7",
   "metadata": {
    "scrolled": true
   },
   "outputs": [
    {
     "data": {
      "text/html": [
       "<div>\n",
       "<style scoped>\n",
       "    .dataframe tbody tr th:only-of-type {\n",
       "        vertical-align: middle;\n",
       "    }\n",
       "\n",
       "    .dataframe tbody tr th {\n",
       "        vertical-align: top;\n",
       "    }\n",
       "\n",
       "    .dataframe thead th {\n",
       "        text-align: right;\n",
       "    }\n",
       "</style>\n",
       "<table border=\"1\" class=\"dataframe\">\n",
       "  <thead>\n",
       "    <tr style=\"text-align: right;\">\n",
       "      <th></th>\n",
       "      <th>co</th>\n",
       "      <th>no</th>\n",
       "      <th>no2</th>\n",
       "      <th>o3</th>\n",
       "      <th>so2</th>\n",
       "      <th>pm2_5</th>\n",
       "      <th>pm10</th>\n",
       "      <th>nh3</th>\n",
       "      <th>datetime</th>\n",
       "      <th>aqi</th>\n",
       "      <th>id</th>\n",
       "    </tr>\n",
       "  </thead>\n",
       "  <tbody>\n",
       "    <tr>\n",
       "      <th>0</th>\n",
       "      <td>347.14</td>\n",
       "      <td>10.39</td>\n",
       "      <td>21.94</td>\n",
       "      <td>39.70</td>\n",
       "      <td>8.46</td>\n",
       "      <td>7.21</td>\n",
       "      <td>11.43</td>\n",
       "      <td>2.69</td>\n",
       "      <td>2020-11-28 12:00:00</td>\n",
       "      <td>1</td>\n",
       "      <td>36</td>\n",
       "    </tr>\n",
       "    <tr>\n",
       "      <th>1</th>\n",
       "      <td>440.60</td>\n",
       "      <td>16.99</td>\n",
       "      <td>26.39</td>\n",
       "      <td>26.82</td>\n",
       "      <td>10.97</td>\n",
       "      <td>18.80</td>\n",
       "      <td>24.32</td>\n",
       "      <td>4.37</td>\n",
       "      <td>2020-12-03 12:00:00</td>\n",
       "      <td>2</td>\n",
       "      <td>156</td>\n",
       "    </tr>\n",
       "    <tr>\n",
       "      <th>2</th>\n",
       "      <td>340.46</td>\n",
       "      <td>5.03</td>\n",
       "      <td>25.36</td>\n",
       "      <td>42.20</td>\n",
       "      <td>10.97</td>\n",
       "      <td>16.63</td>\n",
       "      <td>19.86</td>\n",
       "      <td>2.50</td>\n",
       "      <td>2020-12-03 16:00:00</td>\n",
       "      <td>2</td>\n",
       "      <td>160</td>\n",
       "    </tr>\n",
       "    <tr>\n",
       "      <th>3</th>\n",
       "      <td>273.71</td>\n",
       "      <td>0.02</td>\n",
       "      <td>14.91</td>\n",
       "      <td>41.84</td>\n",
       "      <td>5.42</td>\n",
       "      <td>11.97</td>\n",
       "      <td>13.51</td>\n",
       "      <td>0.63</td>\n",
       "      <td>2020-12-04 06:00:00</td>\n",
       "      <td>2</td>\n",
       "      <td>174</td>\n",
       "    </tr>\n",
       "    <tr>\n",
       "      <th>4</th>\n",
       "      <td>243.66</td>\n",
       "      <td>1.02</td>\n",
       "      <td>11.31</td>\n",
       "      <td>80.11</td>\n",
       "      <td>4.71</td>\n",
       "      <td>1.38</td>\n",
       "      <td>2.84</td>\n",
       "      <td>0.76</td>\n",
       "      <td>2020-12-05 12:00:00</td>\n",
       "      <td>2</td>\n",
       "      <td>204</td>\n",
       "    </tr>\n",
       "  </tbody>\n",
       "</table>\n",
       "</div>"
      ],
      "text/plain": [
       "       co     no    no2     o3    so2  pm2_5   pm10   nh3            datetime  \\\n",
       "0  347.14  10.39  21.94  39.70   8.46   7.21  11.43  2.69 2020-11-28 12:00:00   \n",
       "1  440.60  16.99  26.39  26.82  10.97  18.80  24.32  4.37 2020-12-03 12:00:00   \n",
       "2  340.46   5.03  25.36  42.20  10.97  16.63  19.86  2.50 2020-12-03 16:00:00   \n",
       "3  273.71   0.02  14.91  41.84   5.42  11.97  13.51  0.63 2020-12-04 06:00:00   \n",
       "4  243.66   1.02  11.31  80.11   4.71   1.38   2.84  0.76 2020-12-05 12:00:00   \n",
       "\n",
       "   aqi   id  \n",
       "0    1   36  \n",
       "1    2  156  \n",
       "2    2  160  \n",
       "3    2  174  \n",
       "4    2  204  "
      ]
     },
     "execution_count": 3,
     "metadata": {},
     "output_type": "execute_result"
    }
   ],
   "source": [
    "ds_query.show(5, online=True)"
   ]
  },
  {
   "cell_type": "markdown",
   "id": "979bab66",
   "metadata": {},
   "source": [
    "Notice that the data appears to be out of order. This is ok."
   ]
  },
  {
   "cell_type": "markdown",
   "id": "9f091150",
   "metadata": {},
   "source": [
    "We will now define some transformation functions to normalize all of our features. These transformations will be applied to the data when we create a feature view."
   ]
  },
  {
   "cell_type": "code",
   "execution_count": 4,
   "id": "3557f7cd",
   "metadata": {},
   "outputs": [],
   "source": [
    "# Load the transformation function we want.\n",
    "standard_scaler = fs.get_transformation_function(name=\"standard_scaler\")\n",
    "\n",
    "# Map features to transformation function\n",
    "transformation_functions = {\n",
    "    'co': standard_scaler, \n",
    "    'no': standard_scaler, \n",
    "    'no2': standard_scaler, \n",
    "    'o3': standard_scaler,\n",
    "    'so2': standard_scaler, \n",
    "    'pm2_5': standard_scaler, \n",
    "    'pm10': standard_scaler, \n",
    "    'nh3': standard_scaler\n",
    "}"
   ]
  },
  {
   "cell_type": "markdown",
   "id": "c3df6e98",
   "metadata": {},
   "source": [
    "Training data is created from feature views in Hopsworks. Feature views are logical views over sets of features. Normally they are created by joining together different feature groups. Since we only have one here though it's a little different."
   ]
  },
  {
   "cell_type": "code",
   "execution_count": 5,
   "id": "948ad530",
   "metadata": {},
   "outputs": [],
   "source": [
    "fv_name = f'{fg_name}_fv'\n",
    "\n",
    "try:\n",
    "    feature_view = fs.get_feature_view(name=fv_name, version=1)\n",
    "except: \n",
    "    feature_view = fs.create_feature_view(\n",
    "    name=fv_name,\n",
    "    version=1,\n",
    "    description='feature view for creating training data',\n",
    "    query=ds_query,\n",
    "    labels=['id', 'aqi'],\n",
    "    transformation_functions=transformation_functions\n",
    ")"
   ]
  },
  {
   "cell_type": "markdown",
   "id": "4b51963d",
   "metadata": {},
   "source": [
    "Now let's get the earliest and latest dates in the dataset to split our data into a training and testing set:"
   ]
  },
  {
   "cell_type": "code",
   "execution_count": 6,
   "id": "a88e84a3",
   "metadata": {},
   "outputs": [
    {
     "name": "stdout",
     "output_type": "stream",
     "text": [
      "2023-01-17 20:00:00 2020-11-27 00:00:00\n"
     ]
    }
   ],
   "source": [
    "import datetime\n",
    "import pandas as pd\n",
    "\n",
    "newest_date = pd.to_datetime(fs.sql(f\"SELECT MAX(`datetime`) FROM `{fg_name}_1`\", online=True).values[0][0])\n",
    "oldest_date = pd.to_datetime(fs.sql(f\"SELECT MIN(`datetime`) FROM `{fg_name}_1`\", online=True).values[0][0])\n",
    "\n",
    "print(newest_date, oldest_date)"
   ]
  },
  {
   "cell_type": "code",
   "execution_count": 7,
   "id": "19e338d8",
   "metadata": {},
   "outputs": [
    {
     "name": "stdout",
     "output_type": "stream",
     "text": [
      "2020-11-26 23:59:00 2022-12-18 20:00:00 2022-12-18 21:00:00 2023-01-17 20:00:00\n"
     ]
    }
   ],
   "source": [
    "train_start = oldest_date - datetime.timedelta(minutes=1)\n",
    "train_end = newest_date - datetime.timedelta(days=30)\n",
    "\n",
    "test_start = train_end + datetime.timedelta(hours=1)\n",
    "test_end = newest_date\n",
    "\n",
    "print(train_start, train_end, test_start, test_end)"
   ]
  },
  {
   "cell_type": "markdown",
   "id": "2523bc4a",
   "metadata": {},
   "source": [
    "We'll give ourselves roughly 2 years of training data and 1 month of testing data. Now convert to a format Hopsworks can understand:"
   ]
  },
  {
   "cell_type": "code",
   "execution_count": 8,
   "id": "3a1325da",
   "metadata": {},
   "outputs": [
    {
     "name": "stdout",
     "output_type": "stream",
     "text": [
      "2020-11-26 23:59:00 2022-12-18 20:00:00 2022-12-18 21:00:00 2023-01-17 20:00:00\n"
     ]
    }
   ],
   "source": [
    "train_start_str = train_start.strftime('%Y-%m-%d %H:%M:%S')\n",
    "train_end_str = train_end.strftime('%Y-%m-%d %H:%M:%S')\n",
    "test_start_str = test_start.strftime('%Y-%m-%d %H:%M:%S')\n",
    "test_end_str = test_end.strftime('%Y-%m-%d %H:%M:%S')\n",
    "\n",
    "print(train_start_str, train_end_str, test_start_str, test_end_str)"
   ]
  },
  {
   "cell_type": "code",
   "execution_count": 9,
   "id": "cf4bb376",
   "metadata": {},
   "outputs": [
    {
     "name": "stdout",
     "output_type": "stream",
     "text": [
      "aqi data for training 2020-11-26 23:59:00 to 2022-12-18 20:00:00\n"
     ]
    }
   ],
   "source": [
    "print(f'aqi data for training {train_start} to {train_end}')"
   ]
  },
  {
   "cell_type": "code",
   "execution_count": 10,
   "id": "202179f3",
   "metadata": {},
   "outputs": [],
   "source": [
    "# Create training datasets based event time filter\n",
    "# train_d, train_d_job = feature_view.create_training_data(\n",
    "#         start_time = train_start_str,\n",
    "#         end_time = train_end_str,    \n",
    "#         description = f'aqi data for training {train_start} to {train_end}',\n",
    "#         data_format = \"csv\",\n",
    "#         coalesce = True,\n",
    "#         write_options = {'wait_for_job': False},\n",
    "#     )"
   ]
  },
  {
   "cell_type": "code",
   "execution_count": 11,
   "id": "becf7360",
   "metadata": {},
   "outputs": [],
   "source": [
    "# Create testing datasets based event time filter\n",
    "# test_d, test_d_job = feature_view.create_training_data(\n",
    "#         start_time = test_start_str,\n",
    "#         end_time = test_end_str,    \n",
    "#         description = f'aqi data for testing {test_start} to {test_end}',\n",
    "#         data_format = \"csv\",\n",
    "#         coalesce = True,\n",
    "#         write_options = {'wait_for_job': False},\n",
    "#     )"
   ]
  },
  {
   "cell_type": "markdown",
   "id": "d016b2fe",
   "metadata": {},
   "source": [
    "Now that the train and test data set views have been created, we can access them like so:"
   ]
  },
  {
   "cell_type": "code",
   "execution_count": 12,
   "id": "2e14fe6f",
   "metadata": {},
   "outputs": [],
   "source": [
    "train_x, train_y = feature_view.get_training_data(1)\n",
    "test_x, test_y = feature_view.get_training_data(2)"
   ]
  },
  {
   "cell_type": "code",
   "execution_count": 13,
   "id": "161055af",
   "metadata": {},
   "outputs": [
    {
     "data": {
      "text/html": [
       "<div>\n",
       "<style scoped>\n",
       "    .dataframe tbody tr th:only-of-type {\n",
       "        vertical-align: middle;\n",
       "    }\n",
       "\n",
       "    .dataframe tbody tr th {\n",
       "        vertical-align: top;\n",
       "    }\n",
       "\n",
       "    .dataframe thead th {\n",
       "        text-align: right;\n",
       "    }\n",
       "</style>\n",
       "<table border=\"1\" class=\"dataframe\">\n",
       "  <thead>\n",
       "    <tr style=\"text-align: right;\">\n",
       "      <th></th>\n",
       "      <th>co</th>\n",
       "      <th>no</th>\n",
       "      <th>no2</th>\n",
       "      <th>o3</th>\n",
       "      <th>so2</th>\n",
       "      <th>pm2_5</th>\n",
       "      <th>pm10</th>\n",
       "      <th>nh3</th>\n",
       "      <th>datetime</th>\n",
       "    </tr>\n",
       "  </thead>\n",
       "  <tbody>\n",
       "    <tr>\n",
       "      <th>0</th>\n",
       "      <td>-0.744854</td>\n",
       "      <td>-0.294919</td>\n",
       "      <td>-0.845750</td>\n",
       "      <td>1.294387</td>\n",
       "      <td>-0.356564</td>\n",
       "      <td>-0.147238</td>\n",
       "      <td>-0.185984</td>\n",
       "      <td>-0.485533</td>\n",
       "      <td>2022-10-23T18:00:00.000Z</td>\n",
       "    </tr>\n",
       "    <tr>\n",
       "      <th>1</th>\n",
       "      <td>-0.727361</td>\n",
       "      <td>-0.308482</td>\n",
       "      <td>-0.807231</td>\n",
       "      <td>1.253209</td>\n",
       "      <td>-0.370837</td>\n",
       "      <td>-0.099050</td>\n",
       "      <td>-0.115664</td>\n",
       "      <td>-0.439192</td>\n",
       "      <td>2022-10-23T20:00:00.000Z</td>\n",
       "    </tr>\n",
       "    <tr>\n",
       "      <th>2</th>\n",
       "      <td>-0.639949</td>\n",
       "      <td>-0.306395</td>\n",
       "      <td>-0.614136</td>\n",
       "      <td>0.161576</td>\n",
       "      <td>-0.399385</td>\n",
       "      <td>-0.284917</td>\n",
       "      <td>-0.300254</td>\n",
       "      <td>-0.236973</td>\n",
       "      <td>2022-10-23T09:00:00.000Z</td>\n",
       "    </tr>\n",
       "    <tr>\n",
       "      <th>3</th>\n",
       "      <td>-0.762347</td>\n",
       "      <td>-0.308482</td>\n",
       "      <td>-0.948801</td>\n",
       "      <td>0.820414</td>\n",
       "      <td>-0.889456</td>\n",
       "      <td>-0.165308</td>\n",
       "      <td>-0.182603</td>\n",
       "      <td>-0.325444</td>\n",
       "      <td>2022-10-23T01:00:00.000Z</td>\n",
       "    </tr>\n",
       "    <tr>\n",
       "      <th>4</th>\n",
       "      <td>-0.709868</td>\n",
       "      <td>-0.308482</td>\n",
       "      <td>-0.721689</td>\n",
       "      <td>0.243931</td>\n",
       "      <td>-0.413659</td>\n",
       "      <td>-0.300406</td>\n",
       "      <td>-0.311749</td>\n",
       "      <td>-0.270676</td>\n",
       "      <td>2022-10-23T08:00:00.000Z</td>\n",
       "    </tr>\n",
       "  </tbody>\n",
       "</table>\n",
       "</div>"
      ],
      "text/plain": [
       "         co        no       no2        o3       so2     pm2_5      pm10  \\\n",
       "0 -0.744854 -0.294919 -0.845750  1.294387 -0.356564 -0.147238 -0.185984   \n",
       "1 -0.727361 -0.308482 -0.807231  1.253209 -0.370837 -0.099050 -0.115664   \n",
       "2 -0.639949 -0.306395 -0.614136  0.161576 -0.399385 -0.284917 -0.300254   \n",
       "3 -0.762347 -0.308482 -0.948801  0.820414 -0.889456 -0.165308 -0.182603   \n",
       "4 -0.709868 -0.308482 -0.721689  0.243931 -0.413659 -0.300406 -0.311749   \n",
       "\n",
       "        nh3                  datetime  \n",
       "0 -0.485533  2022-10-23T18:00:00.000Z  \n",
       "1 -0.439192  2022-10-23T20:00:00.000Z  \n",
       "2 -0.236973  2022-10-23T09:00:00.000Z  \n",
       "3 -0.325444  2022-10-23T01:00:00.000Z  \n",
       "4 -0.270676  2022-10-23T08:00:00.000Z  "
      ]
     },
     "execution_count": 13,
     "metadata": {},
     "output_type": "execute_result"
    }
   ],
   "source": [
    "train_x.head()"
   ]
  },
  {
   "cell_type": "markdown",
   "id": "ca6a21b6",
   "metadata": {},
   "source": [
    "Now we have a dataframe for each train and test x and y! Simple!"
   ]
  },
  {
   "cell_type": "code",
   "execution_count": 14,
   "id": "6b9263c3",
   "metadata": {},
   "outputs": [
    {
     "data": {
      "text/html": [
       "<div>\n",
       "<style scoped>\n",
       "    .dataframe tbody tr th:only-of-type {\n",
       "        vertical-align: middle;\n",
       "    }\n",
       "\n",
       "    .dataframe tbody tr th {\n",
       "        vertical-align: top;\n",
       "    }\n",
       "\n",
       "    .dataframe thead th {\n",
       "        text-align: right;\n",
       "    }\n",
       "</style>\n",
       "<table border=\"1\" class=\"dataframe\">\n",
       "  <thead>\n",
       "    <tr style=\"text-align: right;\">\n",
       "      <th></th>\n",
       "      <th>aqi</th>\n",
       "      <th>id</th>\n",
       "    </tr>\n",
       "  </thead>\n",
       "  <tbody>\n",
       "    <tr>\n",
       "      <th>0</th>\n",
       "      <td>2</td>\n",
       "      <td>16576</td>\n",
       "    </tr>\n",
       "    <tr>\n",
       "      <th>1</th>\n",
       "      <td>2</td>\n",
       "      <td>16578</td>\n",
       "    </tr>\n",
       "    <tr>\n",
       "      <th>2</th>\n",
       "      <td>1</td>\n",
       "      <td>16567</td>\n",
       "    </tr>\n",
       "    <tr>\n",
       "      <th>3</th>\n",
       "      <td>2</td>\n",
       "      <td>16559</td>\n",
       "    </tr>\n",
       "    <tr>\n",
       "      <th>4</th>\n",
       "      <td>1</td>\n",
       "      <td>16566</td>\n",
       "    </tr>\n",
       "  </tbody>\n",
       "</table>\n",
       "</div>"
      ],
      "text/plain": [
       "   aqi     id\n",
       "0    2  16576\n",
       "1    2  16578\n",
       "2    1  16567\n",
       "3    2  16559\n",
       "4    1  16566"
      ]
     },
     "execution_count": 14,
     "metadata": {},
     "output_type": "execute_result"
    }
   ],
   "source": [
    "train_y.head()"
   ]
  },
  {
   "cell_type": "code",
   "execution_count": 15,
   "id": "ca9e71ab",
   "metadata": {
    "scrolled": true
   },
   "outputs": [
    {
     "name": "stdout",
     "output_type": "stream",
     "text": [
      "2020-11-27T00:00:00.000Z 2022-12-18T08:00:00.000Z 2022-12-18T09:00:00.000Z 2023-01-17T08:00:00.000Z\n"
     ]
    }
   ],
   "source": [
    "# check that we have the right time period for train and test\n",
    "print(train_x['datetime'].min(), train_x['datetime'].max(), test_x['datetime'].min(), test_x['datetime'].max())"
   ]
  },
  {
   "cell_type": "code",
   "execution_count": 16,
   "id": "f112f8a0",
   "metadata": {},
   "outputs": [
    {
     "data": {
      "text/plain": [
       "co          float64\n",
       "no          float64\n",
       "no2         float64\n",
       "o3          float64\n",
       "so2         float64\n",
       "pm2_5       float64\n",
       "pm10        float64\n",
       "nh3         float64\n",
       "datetime     object\n",
       "dtype: object"
      ]
     },
     "execution_count": 16,
     "metadata": {},
     "output_type": "execute_result"
    }
   ],
   "source": [
    "train_x.dtypes"
   ]
  },
  {
   "cell_type": "code",
   "execution_count": 17,
   "id": "026b87a1",
   "metadata": {},
   "outputs": [],
   "source": [
    "# need to convert datetime from strings\n",
    "train_x.datetime = pd.to_datetime(train_x.datetime)\n",
    "test_x.datetime = pd.to_datetime(test_x.datetime)"
   ]
  },
  {
   "cell_type": "code",
   "execution_count": 18,
   "id": "67d4eb6d",
   "metadata": {},
   "outputs": [
    {
     "data": {
      "text/html": [
       "<div>\n",
       "<style scoped>\n",
       "    .dataframe tbody tr th:only-of-type {\n",
       "        vertical-align: middle;\n",
       "    }\n",
       "\n",
       "    .dataframe tbody tr th {\n",
       "        vertical-align: top;\n",
       "    }\n",
       "\n",
       "    .dataframe thead th {\n",
       "        text-align: right;\n",
       "    }\n",
       "</style>\n",
       "<table border=\"1\" class=\"dataframe\">\n",
       "  <thead>\n",
       "    <tr style=\"text-align: right;\">\n",
       "      <th></th>\n",
       "      <th>co</th>\n",
       "      <th>no</th>\n",
       "      <th>no2</th>\n",
       "      <th>o3</th>\n",
       "      <th>so2</th>\n",
       "      <th>pm2_5</th>\n",
       "      <th>pm10</th>\n",
       "      <th>nh3</th>\n",
       "      <th>datetime</th>\n",
       "    </tr>\n",
       "  </thead>\n",
       "  <tbody>\n",
       "    <tr>\n",
       "      <th>0</th>\n",
       "      <td>-0.744854</td>\n",
       "      <td>-0.294919</td>\n",
       "      <td>-0.845750</td>\n",
       "      <td>1.294387</td>\n",
       "      <td>-0.356564</td>\n",
       "      <td>-0.147238</td>\n",
       "      <td>-0.185984</td>\n",
       "      <td>-0.485533</td>\n",
       "      <td>2022-10-23 18:00:00+00:00</td>\n",
       "    </tr>\n",
       "    <tr>\n",
       "      <th>1</th>\n",
       "      <td>-0.727361</td>\n",
       "      <td>-0.308482</td>\n",
       "      <td>-0.807231</td>\n",
       "      <td>1.253209</td>\n",
       "      <td>-0.370837</td>\n",
       "      <td>-0.099050</td>\n",
       "      <td>-0.115664</td>\n",
       "      <td>-0.439192</td>\n",
       "      <td>2022-10-23 20:00:00+00:00</td>\n",
       "    </tr>\n",
       "    <tr>\n",
       "      <th>2</th>\n",
       "      <td>-0.639949</td>\n",
       "      <td>-0.306395</td>\n",
       "      <td>-0.614136</td>\n",
       "      <td>0.161576</td>\n",
       "      <td>-0.399385</td>\n",
       "      <td>-0.284917</td>\n",
       "      <td>-0.300254</td>\n",
       "      <td>-0.236973</td>\n",
       "      <td>2022-10-23 09:00:00+00:00</td>\n",
       "    </tr>\n",
       "    <tr>\n",
       "      <th>3</th>\n",
       "      <td>-0.762347</td>\n",
       "      <td>-0.308482</td>\n",
       "      <td>-0.948801</td>\n",
       "      <td>0.820414</td>\n",
       "      <td>-0.889456</td>\n",
       "      <td>-0.165308</td>\n",
       "      <td>-0.182603</td>\n",
       "      <td>-0.325444</td>\n",
       "      <td>2022-10-23 01:00:00+00:00</td>\n",
       "    </tr>\n",
       "    <tr>\n",
       "      <th>4</th>\n",
       "      <td>-0.709868</td>\n",
       "      <td>-0.308482</td>\n",
       "      <td>-0.721689</td>\n",
       "      <td>0.243931</td>\n",
       "      <td>-0.413659</td>\n",
       "      <td>-0.300406</td>\n",
       "      <td>-0.311749</td>\n",
       "      <td>-0.270676</td>\n",
       "      <td>2022-10-23 08:00:00+00:00</td>\n",
       "    </tr>\n",
       "  </tbody>\n",
       "</table>\n",
       "</div>"
      ],
      "text/plain": [
       "         co        no       no2        o3       so2     pm2_5      pm10  \\\n",
       "0 -0.744854 -0.294919 -0.845750  1.294387 -0.356564 -0.147238 -0.185984   \n",
       "1 -0.727361 -0.308482 -0.807231  1.253209 -0.370837 -0.099050 -0.115664   \n",
       "2 -0.639949 -0.306395 -0.614136  0.161576 -0.399385 -0.284917 -0.300254   \n",
       "3 -0.762347 -0.308482 -0.948801  0.820414 -0.889456 -0.165308 -0.182603   \n",
       "4 -0.709868 -0.308482 -0.721689  0.243931 -0.413659 -0.300406 -0.311749   \n",
       "\n",
       "        nh3                  datetime  \n",
       "0 -0.485533 2022-10-23 18:00:00+00:00  \n",
       "1 -0.439192 2022-10-23 20:00:00+00:00  \n",
       "2 -0.236973 2022-10-23 09:00:00+00:00  \n",
       "3 -0.325444 2022-10-23 01:00:00+00:00  \n",
       "4 -0.270676 2022-10-23 08:00:00+00:00  "
      ]
     },
     "execution_count": 18,
     "metadata": {},
     "output_type": "execute_result"
    }
   ],
   "source": [
    "train_x.head()"
   ]
  },
  {
   "cell_type": "code",
   "execution_count": 19,
   "id": "1c65fc4f",
   "metadata": {},
   "outputs": [],
   "source": [
    "# data points are not in order\n",
    "train_x = train_x.sort_values(\"datetime\")\n",
    "train_y = train_y.reindex(train_x.index)\n",
    "\n",
    "test_x = test_x.sort_values(\"datetime\")\n",
    "test_y = test_y.reindex(test_x.index)"
   ]
  },
  {
   "cell_type": "code",
   "execution_count": 20,
   "id": "51fc6c09",
   "metadata": {},
   "outputs": [
    {
     "name": "stdout",
     "output_type": "stream",
     "text": [
      "2020-11-27 00:00:00+00:00 2022-12-18 08:00:00+00:00 2022-12-18 09:00:00+00:00 2023-01-17 08:00:00+00:00\n"
     ]
    }
   ],
   "source": [
    "print(train_x['datetime'].min(), train_x['datetime'].max(), test_x['datetime'].min(), test_x['datetime'].max())"
   ]
  },
  {
   "cell_type": "code",
   "execution_count": 21,
   "id": "fc217a41",
   "metadata": {},
   "outputs": [],
   "source": [
    "# need to remove time zone information in order to use prophet\n",
    "train_x['datetime'] = train_x['datetime'].dt.tz_localize(None)\n",
    "test_x['datetime'] = test_x['datetime'].dt.tz_localize(None)"
   ]
  },
  {
   "cell_type": "code",
   "execution_count": 22,
   "id": "8241daaf",
   "metadata": {},
   "outputs": [
    {
     "name": "stdout",
     "output_type": "stream",
     "text": [
      "2020-11-27 00:00:00 2022-12-18 08:00:00 2022-12-18 09:00:00 2023-01-17 08:00:00\n"
     ]
    }
   ],
   "source": [
    "print(train_x['datetime'].min(), train_x['datetime'].max(), test_x['datetime'].min(), test_x['datetime'].max())"
   ]
  },
  {
   "cell_type": "code",
   "execution_count": 23,
   "id": "cfce8bfc",
   "metadata": {},
   "outputs": [
    {
     "data": {
      "text/html": [
       "<div>\n",
       "<style scoped>\n",
       "    .dataframe tbody tr th:only-of-type {\n",
       "        vertical-align: middle;\n",
       "    }\n",
       "\n",
       "    .dataframe tbody tr th {\n",
       "        vertical-align: top;\n",
       "    }\n",
       "\n",
       "    .dataframe thead th {\n",
       "        text-align: right;\n",
       "    }\n",
       "</style>\n",
       "<table border=\"1\" class=\"dataframe\">\n",
       "  <thead>\n",
       "    <tr style=\"text-align: right;\">\n",
       "      <th></th>\n",
       "      <th>co</th>\n",
       "      <th>no</th>\n",
       "      <th>no2</th>\n",
       "      <th>o3</th>\n",
       "      <th>so2</th>\n",
       "      <th>pm2_5</th>\n",
       "      <th>pm10</th>\n",
       "      <th>nh3</th>\n",
       "      <th>datetime</th>\n",
       "    </tr>\n",
       "  </thead>\n",
       "  <tbody>\n",
       "    <tr>\n",
       "      <th>6687</th>\n",
       "      <td>0.269111</td>\n",
       "      <td>-0.209372</td>\n",
       "      <td>0.860090</td>\n",
       "      <td>-1.365155</td>\n",
       "      <td>-0.313742</td>\n",
       "      <td>-0.052584</td>\n",
       "      <td>0.160885</td>\n",
       "      <td>-0.199057</td>\n",
       "      <td>2020-11-27 00:00:00</td>\n",
       "    </tr>\n",
       "    <tr>\n",
       "      <th>6691</th>\n",
       "      <td>0.094286</td>\n",
       "      <td>-0.270925</td>\n",
       "      <td>0.585955</td>\n",
       "      <td>-1.228665</td>\n",
       "      <td>-0.328016</td>\n",
       "      <td>-0.170471</td>\n",
       "      <td>-0.009507</td>\n",
       "      <td>-0.397063</td>\n",
       "      <td>2020-11-27 01:00:00</td>\n",
       "    </tr>\n",
       "    <tr>\n",
       "      <th>6698</th>\n",
       "      <td>-0.063046</td>\n",
       "      <td>-0.290746</td>\n",
       "      <td>0.345837</td>\n",
       "      <td>-1.105133</td>\n",
       "      <td>-0.342290</td>\n",
       "      <td>-0.237590</td>\n",
       "      <td>-0.133244</td>\n",
       "      <td>-0.506598</td>\n",
       "      <td>2020-11-27 02:00:00</td>\n",
       "    </tr>\n",
       "    <tr>\n",
       "      <th>6684</th>\n",
       "      <td>-0.115525</td>\n",
       "      <td>-0.294398</td>\n",
       "      <td>0.259795</td>\n",
       "      <td>-1.074322</td>\n",
       "      <td>-0.356564</td>\n",
       "      <td>-0.236729</td>\n",
       "      <td>-0.173137</td>\n",
       "      <td>-0.536088</td>\n",
       "      <td>2020-11-27 03:00:00</td>\n",
       "    </tr>\n",
       "    <tr>\n",
       "      <th>6688</th>\n",
       "      <td>-0.115525</td>\n",
       "      <td>-0.292311</td>\n",
       "      <td>0.259795</td>\n",
       "      <td>-1.110316</td>\n",
       "      <td>-0.328016</td>\n",
       "      <td>-0.198868</td>\n",
       "      <td>-0.153528</td>\n",
       "      <td>-0.536088</td>\n",
       "      <td>2020-11-27 04:00:00</td>\n",
       "    </tr>\n",
       "  </tbody>\n",
       "</table>\n",
       "</div>"
      ],
      "text/plain": [
       "            co        no       no2        o3       so2     pm2_5      pm10  \\\n",
       "6687  0.269111 -0.209372  0.860090 -1.365155 -0.313742 -0.052584  0.160885   \n",
       "6691  0.094286 -0.270925  0.585955 -1.228665 -0.328016 -0.170471 -0.009507   \n",
       "6698 -0.063046 -0.290746  0.345837 -1.105133 -0.342290 -0.237590 -0.133244   \n",
       "6684 -0.115525 -0.294398  0.259795 -1.074322 -0.356564 -0.236729 -0.173137   \n",
       "6688 -0.115525 -0.292311  0.259795 -1.110316 -0.328016 -0.198868 -0.153528   \n",
       "\n",
       "           nh3            datetime  \n",
       "6687 -0.199057 2020-11-27 00:00:00  \n",
       "6691 -0.397063 2020-11-27 01:00:00  \n",
       "6698 -0.506598 2020-11-27 02:00:00  \n",
       "6684 -0.536088 2020-11-27 03:00:00  \n",
       "6688 -0.536088 2020-11-27 04:00:00  "
      ]
     },
     "execution_count": 23,
     "metadata": {},
     "output_type": "execute_result"
    }
   ],
   "source": [
    "train_x.head()"
   ]
  },
  {
   "cell_type": "code",
   "execution_count": 24,
   "id": "b568b180",
   "metadata": {},
   "outputs": [
    {
     "data": {
      "text/html": [
       "<div>\n",
       "<style scoped>\n",
       "    .dataframe tbody tr th:only-of-type {\n",
       "        vertical-align: middle;\n",
       "    }\n",
       "\n",
       "    .dataframe tbody tr th {\n",
       "        vertical-align: top;\n",
       "    }\n",
       "\n",
       "    .dataframe thead th {\n",
       "        text-align: right;\n",
       "    }\n",
       "</style>\n",
       "<table border=\"1\" class=\"dataframe\">\n",
       "  <thead>\n",
       "    <tr style=\"text-align: right;\">\n",
       "      <th></th>\n",
       "      <th>aqi</th>\n",
       "      <th>id</th>\n",
       "    </tr>\n",
       "  </thead>\n",
       "  <tbody>\n",
       "    <tr>\n",
       "      <th>6687</th>\n",
       "      <td>2</td>\n",
       "      <td>0</td>\n",
       "    </tr>\n",
       "    <tr>\n",
       "      <th>6691</th>\n",
       "      <td>1</td>\n",
       "      <td>1</td>\n",
       "    </tr>\n",
       "    <tr>\n",
       "      <th>6698</th>\n",
       "      <td>1</td>\n",
       "      <td>2</td>\n",
       "    </tr>\n",
       "    <tr>\n",
       "      <th>6684</th>\n",
       "      <td>1</td>\n",
       "      <td>3</td>\n",
       "    </tr>\n",
       "    <tr>\n",
       "      <th>6688</th>\n",
       "      <td>1</td>\n",
       "      <td>4</td>\n",
       "    </tr>\n",
       "  </tbody>\n",
       "</table>\n",
       "</div>"
      ],
      "text/plain": [
       "      aqi  id\n",
       "6687    2   0\n",
       "6691    1   1\n",
       "6698    1   2\n",
       "6684    1   3\n",
       "6688    1   4"
      ]
     },
     "execution_count": 24,
     "metadata": {},
     "output_type": "execute_result"
    }
   ],
   "source": [
    "train_y.head()"
   ]
  },
  {
   "cell_type": "markdown",
   "id": "3b429492",
   "metadata": {},
   "source": [
    "Now we can bring in Prophet and train a model:"
   ]
  },
  {
   "cell_type": "code",
   "execution_count": 25,
   "id": "24824c85",
   "metadata": {},
   "outputs": [],
   "source": [
    "from prophet import Prophet"
   ]
  },
  {
   "cell_type": "code",
   "execution_count": 34,
   "id": "ea3741e7",
   "metadata": {},
   "outputs": [
    {
     "data": {
      "text/plain": [
       "Timestamp('2020-11-27 00:00:00')"
      ]
     },
     "execution_count": 34,
     "metadata": {},
     "output_type": "execute_result"
    }
   ],
   "source": [
    "df = pd.concat([train_x.datetime, train_y['aqi']], axis=1)\n",
    "df.columns = ['ds', 'y']\n",
    "df = df.sort_values(by='ds')\n",
    "df['ds'].min()"
   ]
  },
  {
   "cell_type": "code",
   "execution_count": 35,
   "id": "f220a1e6",
   "metadata": {
    "scrolled": true
   },
   "outputs": [
    {
     "data": {
      "text/html": [
       "<div>\n",
       "<style scoped>\n",
       "    .dataframe tbody tr th:only-of-type {\n",
       "        vertical-align: middle;\n",
       "    }\n",
       "\n",
       "    .dataframe tbody tr th {\n",
       "        vertical-align: top;\n",
       "    }\n",
       "\n",
       "    .dataframe thead th {\n",
       "        text-align: right;\n",
       "    }\n",
       "</style>\n",
       "<table border=\"1\" class=\"dataframe\">\n",
       "  <thead>\n",
       "    <tr style=\"text-align: right;\">\n",
       "      <th></th>\n",
       "      <th>ds</th>\n",
       "      <th>y</th>\n",
       "    </tr>\n",
       "  </thead>\n",
       "  <tbody>\n",
       "    <tr>\n",
       "      <th>6687</th>\n",
       "      <td>2020-11-27 00:00:00</td>\n",
       "      <td>2</td>\n",
       "    </tr>\n",
       "    <tr>\n",
       "      <th>6691</th>\n",
       "      <td>2020-11-27 01:00:00</td>\n",
       "      <td>1</td>\n",
       "    </tr>\n",
       "    <tr>\n",
       "      <th>6698</th>\n",
       "      <td>2020-11-27 02:00:00</td>\n",
       "      <td>1</td>\n",
       "    </tr>\n",
       "    <tr>\n",
       "      <th>6684</th>\n",
       "      <td>2020-11-27 03:00:00</td>\n",
       "      <td>1</td>\n",
       "    </tr>\n",
       "    <tr>\n",
       "      <th>6688</th>\n",
       "      <td>2020-11-27 04:00:00</td>\n",
       "      <td>1</td>\n",
       "    </tr>\n",
       "  </tbody>\n",
       "</table>\n",
       "</div>"
      ],
      "text/plain": [
       "                      ds  y\n",
       "6687 2020-11-27 00:00:00  2\n",
       "6691 2020-11-27 01:00:00  1\n",
       "6698 2020-11-27 02:00:00  1\n",
       "6684 2020-11-27 03:00:00  1\n",
       "6688 2020-11-27 04:00:00  1"
      ]
     },
     "execution_count": 35,
     "metadata": {},
     "output_type": "execute_result"
    }
   ],
   "source": [
    "df.head()"
   ]
  },
  {
   "cell_type": "code",
   "execution_count": 51,
   "id": "7e854fa3",
   "metadata": {},
   "outputs": [],
   "source": [
    "m = Prophet(interval_width=0.95, changepoint_range=0.9, changepoint_prior_scale=0.1)"
   ]
  },
  {
   "cell_type": "code",
   "execution_count": 52,
   "id": "602865d8",
   "metadata": {
    "scrolled": true
   },
   "outputs": [
    {
     "name": "stderr",
     "output_type": "stream",
     "text": [
      "FutureWarning: The frame.append method is deprecated and will be removed from pandas in a future version. Use pandas.concat instead.\n"
     ]
    },
    {
     "name": "stdout",
     "output_type": "stream",
     "text": [
      "Initial log joint probability = -345.051\n",
      "    Iter      log prob        ||dx||      ||grad||       alpha      alpha0  # evals  Notes \n",
      "      95         22100   4.91842e-05       44.2478   1.035e-06       0.001      177  LS failed, Hessian reset \n",
      "      99         22100   0.000376208       41.1993           1           1      182   \n",
      "    Iter      log prob        ||dx||      ||grad||       alpha      alpha0  # evals  Notes \n",
      "     199       22100.3   0.000575308       44.6306           1           1      311   \n",
      "    Iter      log prob        ||dx||      ||grad||       alpha      alpha0  # evals  Notes \n",
      "     208       22100.3   0.000430117       167.897   9.369e-06       0.001      349  LS failed, Hessian reset \n",
      "     267       22100.4    4.5433e-05       36.2838   1.176e-06       0.001      466  LS failed, Hessian reset \n",
      "     299       22100.4   3.15256e-06       36.6682      0.9163      0.2228      510   \n",
      "    Iter      log prob        ||dx||      ||grad||       alpha      alpha0  # evals  Notes \n",
      "     300       22100.4   1.12477e-06       30.1095      0.2671      0.8747      512   \n",
      "Optimization terminated normally: \n",
      "  Convergence detected: relative gradient magnitude is below tolerance\n"
     ]
    },
    {
     "data": {
      "text/plain": [
       "<prophet.forecaster.Prophet at 0x169263ee0>"
      ]
     },
     "execution_count": 52,
     "metadata": {},
     "output_type": "execute_result"
    }
   ],
   "source": [
    "m.fit(df)"
   ]
  },
  {
   "cell_type": "code",
   "execution_count": 53,
   "id": "82de27dd",
   "metadata": {},
   "outputs": [
    {
     "name": "stderr",
     "output_type": "stream",
     "text": [
      "FutureWarning: The frame.append method is deprecated and will be removed from pandas in a future version. Use pandas.concat instead.\n",
      "FutureWarning: The frame.append method is deprecated and will be removed from pandas in a future version. Use pandas.concat instead.\n"
     ]
    },
    {
     "data": {
      "image/png": "[encoded data removed]",
      "text/plain": [
       "<Figure size 720x432 with 1 Axes>"
      ]
     },
     "metadata": {},
     "output_type": "display_data"
    }
   ],
   "source": [
    "future = m.make_future_dataframe(periods=24*30, freq='H')\n",
    "fcst = m.predict(future)\n",
    "fig = m.plot(fcst)"
   ]
  },
  {
   "cell_type": "code",
   "execution_count": 56,
   "id": "d445e65c",
   "metadata": {},
   "outputs": [],
   "source": [
    "import xgboost as xgb"
   ]
  },
  {
   "cell_type": "code",
   "execution_count": 57,
   "id": "ec864c22",
   "metadata": {},
   "outputs": [],
   "source": [
    "reg = xgb.XGBRegressor(n_estimators=1000)"
   ]
  },
  {
   "cell_type": "code",
   "execution_count": 60,
   "id": "4e324299",
   "metadata": {},
   "outputs": [],
   "source": [
    "y_train = train_y[['aqi']]"
   ]
  },
  {
   "cell_type": "code",
   "execution_count": 61,
   "id": "134f983b",
   "metadata": {},
   "outputs": [
    {
     "ename": "ValueError",
     "evalue": "DataFrame.dtypes for data must be int, float, bool or category. When categorical type is supplied, The experimental DMatrix parameter`enable_categorical` must be set to `True`.  Invalid columns:datetime: datetime64[ns]",
     "output_type": "error",
     "traceback": [
      "\u001b[0;31m---------------------------------------------------------------------------\u001b[0m",
      "\u001b[0;31mValueError\u001b[0m                                Traceback (most recent call last)",
      "Input \u001b[0;32mIn [61]\u001b[0m, in \u001b[0;36m<cell line: 1>\u001b[0;34m()\u001b[0m\n\u001b[0;32m----> 1\u001b[0m \u001b[43mreg\u001b[49m\u001b[38;5;241;43m.\u001b[39;49m\u001b[43mfit\u001b[49m\u001b[43m(\u001b[49m\u001b[43mtrain_x\u001b[49m\u001b[43m,\u001b[49m\u001b[43m \u001b[49m\u001b[43my_train\u001b[49m\u001b[43m,\u001b[49m\u001b[43m \u001b[49m\u001b[43mearly_stopping_rounds\u001b[49m\u001b[38;5;241;43m=\u001b[39;49m\u001b[38;5;241;43m50\u001b[39;49m\u001b[43m,\u001b[49m\u001b[43m \u001b[49m\u001b[43mverbose\u001b[49m\u001b[38;5;241;43m=\u001b[39;49m\u001b[38;5;28;43;01mTrue\u001b[39;49;00m\u001b[43m)\u001b[49m\n",
      "File \u001b[0;32m~/.virtualenvs/MLBook/lib/python3.9/site-packages/xgboost/core.py:620\u001b[0m, in \u001b[0;36mrequire_keyword_args.<locals>.throw_if.<locals>.inner_f\u001b[0;34m(*args, **kwargs)\u001b[0m\n\u001b[1;32m    618\u001b[0m \u001b[38;5;28;01mfor\u001b[39;00m k, arg \u001b[38;5;129;01min\u001b[39;00m \u001b[38;5;28mzip\u001b[39m(sig\u001b[38;5;241m.\u001b[39mparameters, args):\n\u001b[1;32m    619\u001b[0m     kwargs[k] \u001b[38;5;241m=\u001b[39m arg\n\u001b[0;32m--> 620\u001b[0m \u001b[38;5;28;01mreturn\u001b[39;00m \u001b[43mfunc\u001b[49m\u001b[43m(\u001b[49m\u001b[38;5;241;43m*\u001b[39;49m\u001b[38;5;241;43m*\u001b[39;49m\u001b[43mkwargs\u001b[49m\u001b[43m)\u001b[49m\n",
      "File \u001b[0;32m~/.virtualenvs/MLBook/lib/python3.9/site-packages/xgboost/sklearn.py:988\u001b[0m, in \u001b[0;36mXGBModel.fit\u001b[0;34m(self, X, y, sample_weight, base_margin, eval_set, eval_metric, early_stopping_rounds, verbose, xgb_model, sample_weight_eval_set, base_margin_eval_set, feature_weights, callbacks)\u001b[0m\n\u001b[1;32m    986\u001b[0m \u001b[38;5;28;01mwith\u001b[39;00m config_context(verbosity\u001b[38;5;241m=\u001b[39m\u001b[38;5;28mself\u001b[39m\u001b[38;5;241m.\u001b[39mverbosity):\n\u001b[1;32m    987\u001b[0m     evals_result: TrainingCallback\u001b[38;5;241m.\u001b[39mEvalsLog \u001b[38;5;241m=\u001b[39m {}\n\u001b[0;32m--> 988\u001b[0m     train_dmatrix, evals \u001b[38;5;241m=\u001b[39m \u001b[43m_wrap_evaluation_matrices\u001b[49m\u001b[43m(\u001b[49m\n\u001b[1;32m    989\u001b[0m \u001b[43m        \u001b[49m\u001b[43mmissing\u001b[49m\u001b[38;5;241;43m=\u001b[39;49m\u001b[38;5;28;43mself\u001b[39;49m\u001b[38;5;241;43m.\u001b[39;49m\u001b[43mmissing\u001b[49m\u001b[43m,\u001b[49m\n\u001b[1;32m    990\u001b[0m \u001b[43m        \u001b[49m\u001b[43mX\u001b[49m\u001b[38;5;241;43m=\u001b[39;49m\u001b[43mX\u001b[49m\u001b[43m,\u001b[49m\n\u001b[1;32m    991\u001b[0m \u001b[43m        \u001b[49m\u001b[43my\u001b[49m\u001b[38;5;241;43m=\u001b[39;49m\u001b[43my\u001b[49m\u001b[43m,\u001b[49m\n\u001b[1;32m    992\u001b[0m \u001b[43m        \u001b[49m\u001b[43mgroup\u001b[49m\u001b[38;5;241;43m=\u001b[39;49m\u001b[38;5;28;43;01mNone\u001b[39;49;00m\u001b[43m,\u001b[49m\n\u001b[1;32m    993\u001b[0m \u001b[43m        \u001b[49m\u001b[43mqid\u001b[49m\u001b[38;5;241;43m=\u001b[39;49m\u001b[38;5;28;43;01mNone\u001b[39;49;00m\u001b[43m,\u001b[49m\n\u001b[1;32m    994\u001b[0m \u001b[43m        \u001b[49m\u001b[43msample_weight\u001b[49m\u001b[38;5;241;43m=\u001b[39;49m\u001b[43msample_weight\u001b[49m\u001b[43m,\u001b[49m\n\u001b[1;32m    995\u001b[0m \u001b[43m        \u001b[49m\u001b[43mbase_margin\u001b[49m\u001b[38;5;241;43m=\u001b[39;49m\u001b[43mbase_margin\u001b[49m\u001b[43m,\u001b[49m\n\u001b[1;32m    996\u001b[0m \u001b[43m        \u001b[49m\u001b[43mfeature_weights\u001b[49m\u001b[38;5;241;43m=\u001b[39;49m\u001b[43mfeature_weights\u001b[49m\u001b[43m,\u001b[49m\n\u001b[1;32m    997\u001b[0m \u001b[43m        \u001b[49m\u001b[43meval_set\u001b[49m\u001b[38;5;241;43m=\u001b[39;49m\u001b[43meval_set\u001b[49m\u001b[43m,\u001b[49m\n\u001b[1;32m    998\u001b[0m \u001b[43m        \u001b[49m\u001b[43msample_weight_eval_set\u001b[49m\u001b[38;5;241;43m=\u001b[39;49m\u001b[43msample_weight_eval_set\u001b[49m\u001b[43m,\u001b[49m\n\u001b[1;32m    999\u001b[0m \u001b[43m        \u001b[49m\u001b[43mbase_margin_eval_set\u001b[49m\u001b[38;5;241;43m=\u001b[39;49m\u001b[43mbase_margin_eval_set\u001b[49m\u001b[43m,\u001b[49m\n\u001b[1;32m   1000\u001b[0m \u001b[43m        \u001b[49m\u001b[43meval_group\u001b[49m\u001b[38;5;241;43m=\u001b[39;49m\u001b[38;5;28;43;01mNone\u001b[39;49;00m\u001b[43m,\u001b[49m\n\u001b[1;32m   1001\u001b[0m \u001b[43m        \u001b[49m\u001b[43meval_qid\u001b[49m\u001b[38;5;241;43m=\u001b[39;49m\u001b[38;5;28;43;01mNone\u001b[39;49;00m\u001b[43m,\u001b[49m\n\u001b[1;32m   1002\u001b[0m \u001b[43m        \u001b[49m\u001b[43mcreate_dmatrix\u001b[49m\u001b[38;5;241;43m=\u001b[39;49m\u001b[38;5;28;43mself\u001b[39;49m\u001b[38;5;241;43m.\u001b[39;49m\u001b[43m_create_dmatrix\u001b[49m\u001b[43m,\u001b[49m\n\u001b[1;32m   1003\u001b[0m \u001b[43m        \u001b[49m\u001b[43menable_categorical\u001b[49m\u001b[38;5;241;43m=\u001b[39;49m\u001b[38;5;28;43mself\u001b[39;49m\u001b[38;5;241;43m.\u001b[39;49m\u001b[43menable_categorical\u001b[49m\u001b[43m,\u001b[49m\n\u001b[1;32m   1004\u001b[0m \u001b[43m        \u001b[49m\u001b[43mfeature_types\u001b[49m\u001b[38;5;241;43m=\u001b[39;49m\u001b[38;5;28;43mself\u001b[39;49m\u001b[38;5;241;43m.\u001b[39;49m\u001b[43mfeature_types\u001b[49m\u001b[43m,\u001b[49m\n\u001b[1;32m   1005\u001b[0m \u001b[43m    \u001b[49m\u001b[43m)\u001b[49m\n\u001b[1;32m   1006\u001b[0m     params \u001b[38;5;241m=\u001b[39m \u001b[38;5;28mself\u001b[39m\u001b[38;5;241m.\u001b[39mget_xgb_params()\n\u001b[1;32m   1008\u001b[0m     \u001b[38;5;28;01mif\u001b[39;00m callable(\u001b[38;5;28mself\u001b[39m\u001b[38;5;241m.\u001b[39mobjective):\n",
      "File \u001b[0;32m~/.virtualenvs/MLBook/lib/python3.9/site-packages/xgboost/sklearn.py:448\u001b[0m, in \u001b[0;36m_wrap_evaluation_matrices\u001b[0;34m(missing, X, y, group, qid, sample_weight, base_margin, feature_weights, eval_set, sample_weight_eval_set, base_margin_eval_set, eval_group, eval_qid, create_dmatrix, enable_categorical, feature_types)\u001b[0m\n\u001b[1;32m    428\u001b[0m \u001b[38;5;28;01mdef\u001b[39;00m \u001b[38;5;21m_wrap_evaluation_matrices\u001b[39m(\n\u001b[1;32m    429\u001b[0m     missing: \u001b[38;5;28mfloat\u001b[39m,\n\u001b[1;32m    430\u001b[0m     X: Any,\n\u001b[0;32m   (...)\u001b[0m\n\u001b[1;32m    444\u001b[0m     feature_types: Optional[FeatureTypes],\n\u001b[1;32m    445\u001b[0m ) \u001b[38;5;241m-\u001b[39m\u001b[38;5;241m>\u001b[39m Tuple[Any, List[Tuple[Any, \u001b[38;5;28mstr\u001b[39m]]]:\n\u001b[1;32m    446\u001b[0m     \u001b[38;5;124;03m\"\"\"Convert array_like evaluation matrices into DMatrix.  Perform validation on the\u001b[39;00m\n\u001b[1;32m    447\u001b[0m \u001b[38;5;124;03m    way.\"\"\"\u001b[39;00m\n\u001b[0;32m--> 448\u001b[0m     train_dmatrix \u001b[38;5;241m=\u001b[39m \u001b[43mcreate_dmatrix\u001b[49m\u001b[43m(\u001b[49m\n\u001b[1;32m    449\u001b[0m \u001b[43m        \u001b[49m\u001b[43mdata\u001b[49m\u001b[38;5;241;43m=\u001b[39;49m\u001b[43mX\u001b[49m\u001b[43m,\u001b[49m\n\u001b[1;32m    450\u001b[0m \u001b[43m        \u001b[49m\u001b[43mlabel\u001b[49m\u001b[38;5;241;43m=\u001b[39;49m\u001b[43my\u001b[49m\u001b[43m,\u001b[49m\n\u001b[1;32m    451\u001b[0m \u001b[43m        \u001b[49m\u001b[43mgroup\u001b[49m\u001b[38;5;241;43m=\u001b[39;49m\u001b[43mgroup\u001b[49m\u001b[43m,\u001b[49m\n\u001b[1;32m    452\u001b[0m \u001b[43m        \u001b[49m\u001b[43mqid\u001b[49m\u001b[38;5;241;43m=\u001b[39;49m\u001b[43mqid\u001b[49m\u001b[43m,\u001b[49m\n\u001b[1;32m    453\u001b[0m \u001b[43m        \u001b[49m\u001b[43mweight\u001b[49m\u001b[38;5;241;43m=\u001b[39;49m\u001b[43msample_weight\u001b[49m\u001b[43m,\u001b[49m\n\u001b[1;32m    454\u001b[0m \u001b[43m        \u001b[49m\u001b[43mbase_margin\u001b[49m\u001b[38;5;241;43m=\u001b[39;49m\u001b[43mbase_margin\u001b[49m\u001b[43m,\u001b[49m\n\u001b[1;32m    455\u001b[0m \u001b[43m        \u001b[49m\u001b[43mfeature_weights\u001b[49m\u001b[38;5;241;43m=\u001b[39;49m\u001b[43mfeature_weights\u001b[49m\u001b[43m,\u001b[49m\n\u001b[1;32m    456\u001b[0m \u001b[43m        \u001b[49m\u001b[43mmissing\u001b[49m\u001b[38;5;241;43m=\u001b[39;49m\u001b[43mmissing\u001b[49m\u001b[43m,\u001b[49m\n\u001b[1;32m    457\u001b[0m \u001b[43m        \u001b[49m\u001b[43menable_categorical\u001b[49m\u001b[38;5;241;43m=\u001b[39;49m\u001b[43menable_categorical\u001b[49m\u001b[43m,\u001b[49m\n\u001b[1;32m    458\u001b[0m \u001b[43m        \u001b[49m\u001b[43mfeature_types\u001b[49m\u001b[38;5;241;43m=\u001b[39;49m\u001b[43mfeature_types\u001b[49m\u001b[43m,\u001b[49m\n\u001b[1;32m    459\u001b[0m \u001b[43m        \u001b[49m\u001b[43mref\u001b[49m\u001b[38;5;241;43m=\u001b[39;49m\u001b[38;5;28;43;01mNone\u001b[39;49;00m\u001b[43m,\u001b[49m\n\u001b[1;32m    460\u001b[0m \u001b[43m    \u001b[49m\u001b[43m)\u001b[49m\n\u001b[1;32m    462\u001b[0m     n_validation \u001b[38;5;241m=\u001b[39m \u001b[38;5;241m0\u001b[39m \u001b[38;5;28;01mif\u001b[39;00m eval_set \u001b[38;5;129;01mis\u001b[39;00m \u001b[38;5;28;01mNone\u001b[39;00m \u001b[38;5;28;01melse\u001b[39;00m \u001b[38;5;28mlen\u001b[39m(eval_set)\n\u001b[1;32m    464\u001b[0m     \u001b[38;5;28;01mdef\u001b[39;00m \u001b[38;5;21mvalidate_or_none\u001b[39m(meta: Optional[Sequence], name: \u001b[38;5;28mstr\u001b[39m) \u001b[38;5;241m-\u001b[39m\u001b[38;5;241m>\u001b[39m Sequence:\n",
      "File \u001b[0;32m~/.virtualenvs/MLBook/lib/python3.9/site-packages/xgboost/sklearn.py:908\u001b[0m, in \u001b[0;36mXGBModel._create_dmatrix\u001b[0;34m(self, ref, **kwargs)\u001b[0m\n\u001b[1;32m    906\u001b[0m     \u001b[38;5;28;01mexcept\u001b[39;00m \u001b[38;5;167;01mTypeError\u001b[39;00m:  \u001b[38;5;66;03m# `QuantileDMatrix` supports lesser types than DMatrix\u001b[39;00m\n\u001b[1;32m    907\u001b[0m         \u001b[38;5;28;01mpass\u001b[39;00m\n\u001b[0;32m--> 908\u001b[0m \u001b[38;5;28;01mreturn\u001b[39;00m \u001b[43mDMatrix\u001b[49m\u001b[43m(\u001b[49m\u001b[38;5;241;43m*\u001b[39;49m\u001b[38;5;241;43m*\u001b[39;49m\u001b[43mkwargs\u001b[49m\u001b[43m,\u001b[49m\u001b[43m \u001b[49m\u001b[43mnthread\u001b[49m\u001b[38;5;241;43m=\u001b[39;49m\u001b[38;5;28;43mself\u001b[39;49m\u001b[38;5;241;43m.\u001b[39;49m\u001b[43mn_jobs\u001b[49m\u001b[43m)\u001b[49m\n",
      "File \u001b[0;32m~/.virtualenvs/MLBook/lib/python3.9/site-packages/xgboost/core.py:620\u001b[0m, in \u001b[0;36mrequire_keyword_args.<locals>.throw_if.<locals>.inner_f\u001b[0;34m(*args, **kwargs)\u001b[0m\n\u001b[1;32m    618\u001b[0m \u001b[38;5;28;01mfor\u001b[39;00m k, arg \u001b[38;5;129;01min\u001b[39;00m \u001b[38;5;28mzip\u001b[39m(sig\u001b[38;5;241m.\u001b[39mparameters, args):\n\u001b[1;32m    619\u001b[0m     kwargs[k] \u001b[38;5;241m=\u001b[39m arg\n\u001b[0;32m--> 620\u001b[0m \u001b[38;5;28;01mreturn\u001b[39;00m \u001b[43mfunc\u001b[49m\u001b[43m(\u001b[49m\u001b[38;5;241;43m*\u001b[39;49m\u001b[38;5;241;43m*\u001b[39;49m\u001b[43mkwargs\u001b[49m\u001b[43m)\u001b[49m\n",
      "File \u001b[0;32m~/.virtualenvs/MLBook/lib/python3.9/site-packages/xgboost/core.py:743\u001b[0m, in \u001b[0;36mDMatrix.__init__\u001b[0;34m(self, data, label, weight, base_margin, missing, silent, feature_names, feature_types, nthread, group, qid, label_lower_bound, label_upper_bound, feature_weights, enable_categorical)\u001b[0m\n\u001b[1;32m    740\u001b[0m     \u001b[38;5;28;01massert\u001b[39;00m \u001b[38;5;28mself\u001b[39m\u001b[38;5;241m.\u001b[39mhandle \u001b[38;5;129;01mis\u001b[39;00m \u001b[38;5;129;01mnot\u001b[39;00m \u001b[38;5;28;01mNone\u001b[39;00m\n\u001b[1;32m    741\u001b[0m     \u001b[38;5;28;01mreturn\u001b[39;00m\n\u001b[0;32m--> 743\u001b[0m handle, feature_names, feature_types \u001b[38;5;241m=\u001b[39m \u001b[43mdispatch_data_backend\u001b[49m\u001b[43m(\u001b[49m\n\u001b[1;32m    744\u001b[0m \u001b[43m    \u001b[49m\u001b[43mdata\u001b[49m\u001b[43m,\u001b[49m\n\u001b[1;32m    745\u001b[0m \u001b[43m    \u001b[49m\u001b[43mmissing\u001b[49m\u001b[38;5;241;43m=\u001b[39;49m\u001b[38;5;28;43mself\u001b[39;49m\u001b[38;5;241;43m.\u001b[39;49m\u001b[43mmissing\u001b[49m\u001b[43m,\u001b[49m\n\u001b[1;32m    746\u001b[0m \u001b[43m    \u001b[49m\u001b[43mthreads\u001b[49m\u001b[38;5;241;43m=\u001b[39;49m\u001b[38;5;28;43mself\u001b[39;49m\u001b[38;5;241;43m.\u001b[39;49m\u001b[43mnthread\u001b[49m\u001b[43m,\u001b[49m\n\u001b[1;32m    747\u001b[0m \u001b[43m    \u001b[49m\u001b[43mfeature_names\u001b[49m\u001b[38;5;241;43m=\u001b[39;49m\u001b[43mfeature_names\u001b[49m\u001b[43m,\u001b[49m\n\u001b[1;32m    748\u001b[0m \u001b[43m    \u001b[49m\u001b[43mfeature_types\u001b[49m\u001b[38;5;241;43m=\u001b[39;49m\u001b[43mfeature_types\u001b[49m\u001b[43m,\u001b[49m\n\u001b[1;32m    749\u001b[0m \u001b[43m    \u001b[49m\u001b[43menable_categorical\u001b[49m\u001b[38;5;241;43m=\u001b[39;49m\u001b[43menable_categorical\u001b[49m\u001b[43m,\u001b[49m\n\u001b[1;32m    750\u001b[0m \u001b[43m\u001b[49m\u001b[43m)\u001b[49m\n\u001b[1;32m    751\u001b[0m \u001b[38;5;28;01massert\u001b[39;00m handle \u001b[38;5;129;01mis\u001b[39;00m \u001b[38;5;129;01mnot\u001b[39;00m \u001b[38;5;28;01mNone\u001b[39;00m\n\u001b[1;32m    752\u001b[0m \u001b[38;5;28mself\u001b[39m\u001b[38;5;241m.\u001b[39mhandle \u001b[38;5;241m=\u001b[39m handle\n",
      "File \u001b[0;32m~/.virtualenvs/MLBook/lib/python3.9/site-packages/xgboost/data.py:957\u001b[0m, in \u001b[0;36mdispatch_data_backend\u001b[0;34m(data, missing, threads, feature_names, feature_types, enable_categorical)\u001b[0m\n\u001b[1;32m    955\u001b[0m     \u001b[38;5;28;01mreturn\u001b[39;00m _from_tuple(data, missing, threads, feature_names, feature_types)\n\u001b[1;32m    956\u001b[0m \u001b[38;5;28;01mif\u001b[39;00m _is_pandas_df(data):\n\u001b[0;32m--> 957\u001b[0m     \u001b[38;5;28;01mreturn\u001b[39;00m \u001b[43m_from_pandas_df\u001b[49m\u001b[43m(\u001b[49m\u001b[43mdata\u001b[49m\u001b[43m,\u001b[49m\u001b[43m \u001b[49m\u001b[43menable_categorical\u001b[49m\u001b[43m,\u001b[49m\u001b[43m \u001b[49m\u001b[43mmissing\u001b[49m\u001b[43m,\u001b[49m\u001b[43m \u001b[49m\u001b[43mthreads\u001b[49m\u001b[43m,\u001b[49m\n\u001b[1;32m    958\u001b[0m \u001b[43m                           \u001b[49m\u001b[43mfeature_names\u001b[49m\u001b[43m,\u001b[49m\u001b[43m \u001b[49m\u001b[43mfeature_types\u001b[49m\u001b[43m)\u001b[49m\n\u001b[1;32m    959\u001b[0m \u001b[38;5;28;01mif\u001b[39;00m _is_pandas_series(data):\n\u001b[1;32m    960\u001b[0m     \u001b[38;5;28;01mreturn\u001b[39;00m _from_pandas_series(\n\u001b[1;32m    961\u001b[0m         data, missing, threads, enable_categorical, feature_names, feature_types\n\u001b[1;32m    962\u001b[0m     )\n",
      "File \u001b[0;32m~/.virtualenvs/MLBook/lib/python3.9/site-packages/xgboost/data.py:404\u001b[0m, in \u001b[0;36m_from_pandas_df\u001b[0;34m(data, enable_categorical, missing, nthread, feature_names, feature_types)\u001b[0m\n\u001b[1;32m    396\u001b[0m \u001b[38;5;28;01mdef\u001b[39;00m \u001b[38;5;21m_from_pandas_df\u001b[39m(\n\u001b[1;32m    397\u001b[0m     data: DataFrame,\n\u001b[1;32m    398\u001b[0m     enable_categorical: \u001b[38;5;28mbool\u001b[39m,\n\u001b[0;32m   (...)\u001b[0m\n\u001b[1;32m    402\u001b[0m     feature_types: Optional[FeatureTypes],\n\u001b[1;32m    403\u001b[0m ) \u001b[38;5;241m-\u001b[39m\u001b[38;5;241m>\u001b[39m DispatchedDataBackendReturnType:\n\u001b[0;32m--> 404\u001b[0m     data, feature_names, feature_types \u001b[38;5;241m=\u001b[39m \u001b[43m_transform_pandas_df\u001b[49m\u001b[43m(\u001b[49m\n\u001b[1;32m    405\u001b[0m \u001b[43m        \u001b[49m\u001b[43mdata\u001b[49m\u001b[43m,\u001b[49m\u001b[43m \u001b[49m\u001b[43menable_categorical\u001b[49m\u001b[43m,\u001b[49m\u001b[43m \u001b[49m\u001b[43mfeature_names\u001b[49m\u001b[43m,\u001b[49m\u001b[43m \u001b[49m\u001b[43mfeature_types\u001b[49m\n\u001b[1;32m    406\u001b[0m \u001b[43m    \u001b[49m\u001b[43m)\u001b[49m\n\u001b[1;32m    407\u001b[0m     \u001b[38;5;28;01mreturn\u001b[39;00m _from_numpy_array(data, missing, nthread, feature_names, feature_types)\n",
      "File \u001b[0;32m~/.virtualenvs/MLBook/lib/python3.9/site-packages/xgboost/data.py:378\u001b[0m, in \u001b[0;36m_transform_pandas_df\u001b[0;34m(data, enable_categorical, feature_names, feature_types, meta, meta_type)\u001b[0m\n\u001b[1;32m    366\u001b[0m \u001b[38;5;28;01mfrom\u001b[39;00m \u001b[38;5;21;01mpandas\u001b[39;00m\u001b[38;5;21;01m.\u001b[39;00m\u001b[38;5;21;01mapi\u001b[39;00m\u001b[38;5;21;01m.\u001b[39;00m\u001b[38;5;21;01mtypes\u001b[39;00m \u001b[38;5;28;01mimport\u001b[39;00m (\n\u001b[1;32m    367\u001b[0m     is_sparse,\n\u001b[1;32m    368\u001b[0m     is_categorical_dtype,\n\u001b[1;32m    369\u001b[0m )\n\u001b[1;32m    371\u001b[0m \u001b[38;5;28;01mif\u001b[39;00m \u001b[38;5;129;01mnot\u001b[39;00m \u001b[38;5;28mall\u001b[39m(\n\u001b[1;32m    372\u001b[0m     dtype\u001b[38;5;241m.\u001b[39mname \u001b[38;5;129;01min\u001b[39;00m _pandas_dtype_mapper\n\u001b[1;32m    373\u001b[0m     \u001b[38;5;129;01mor\u001b[39;00m is_sparse(dtype)\n\u001b[0;32m   (...)\u001b[0m\n\u001b[1;32m    376\u001b[0m     \u001b[38;5;28;01mfor\u001b[39;00m dtype \u001b[38;5;129;01min\u001b[39;00m data\u001b[38;5;241m.\u001b[39mdtypes\n\u001b[1;32m    377\u001b[0m ):\n\u001b[0;32m--> 378\u001b[0m     \u001b[43m_invalid_dataframe_dtype\u001b[49m\u001b[43m(\u001b[49m\u001b[43mdata\u001b[49m\u001b[43m)\u001b[49m\n\u001b[1;32m    380\u001b[0m feature_names, feature_types \u001b[38;5;241m=\u001b[39m _pandas_feature_info(\n\u001b[1;32m    381\u001b[0m     data, meta, feature_names, feature_types, enable_categorical\n\u001b[1;32m    382\u001b[0m )\n\u001b[1;32m    384\u001b[0m transformed \u001b[38;5;241m=\u001b[39m _pandas_cat_null(data)\n",
      "File \u001b[0;32m~/.virtualenvs/MLBook/lib/python3.9/site-packages/xgboost/data.py:270\u001b[0m, in \u001b[0;36m_invalid_dataframe_dtype\u001b[0;34m(data)\u001b[0m\n\u001b[1;32m    268\u001b[0m type_err \u001b[38;5;241m=\u001b[39m \u001b[38;5;124m\"\u001b[39m\u001b[38;5;124mDataFrame.dtypes for data must be int, float, bool or category.\u001b[39m\u001b[38;5;124m\"\u001b[39m\n\u001b[1;32m    269\u001b[0m msg \u001b[38;5;241m=\u001b[39m \u001b[38;5;124mf\u001b[39m\u001b[38;5;124m\"\"\"\u001b[39m\u001b[38;5;132;01m{\u001b[39;00mtype_err\u001b[38;5;132;01m}\u001b[39;00m\u001b[38;5;124m \u001b[39m\u001b[38;5;132;01m{\u001b[39;00m_ENABLE_CAT_ERR\u001b[38;5;132;01m}\u001b[39;00m\u001b[38;5;124m \u001b[39m\u001b[38;5;132;01m{\u001b[39;00merr\u001b[38;5;132;01m}\u001b[39;00m\u001b[38;5;124m\"\"\"\u001b[39m\n\u001b[0;32m--> 270\u001b[0m \u001b[38;5;28;01mraise\u001b[39;00m \u001b[38;5;167;01mValueError\u001b[39;00m(msg)\n",
      "\u001b[0;31mValueError\u001b[0m: DataFrame.dtypes for data must be int, float, bool or category. When categorical type is supplied, The experimental DMatrix parameter`enable_categorical` must be set to `True`.  Invalid columns:datetime: datetime64[ns]"
     ]
    }
   ],
   "source": [
    "reg.fit(train_x, y_train, early_stopping_rounds=50, verbose=True)"
   ]
  },
  {
   "cell_type": "code",
   "execution_count": null,
   "id": "17b88723",
   "metadata": {},
   "outputs": [],
   "source": []
  }
 ],
 "metadata": {
  "kernelspec": {
   "display_name": "Python 3 (ipykernel)",
   "language": "python",
   "name": "python3"
  },
  "language_info": {
   "codemirror_mode": {
    "name": "ipython",
    "version": 3
   },
   "file_extension": ".py",
   "mimetype": "text/x-python",
   "name": "python",
   "nbconvert_exporter": "python",
   "pygments_lexer": "ipython3",
   "version": "3.9.10"
  }
 },
 "nbformat": 4,
 "nbformat_minor": 5
}
